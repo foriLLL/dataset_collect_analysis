{
 "cells": [
  {
   "cell_type": "markdown",
   "metadata": {},
   "source": [
    "## 收集数据\n",
    "\n",
    "从 MergeBert 数据集中收集所有语言（Java/C#/JavaScript/TypeScript）的数据集\n",
    "改成了从 merge_nature top 50 repos 收集数据"
   ]
  },
  {
   "cell_type": "code",
   "execution_count": 6,
   "metadata": {},
   "outputs": [
    {
     "name": "stderr",
     "output_type": "stream",
     "text": [
      "100%|██████████| 26369/26369 [00:10<00:00, 2550.50it/s]\n"
     ]
    },
    {
     "name": "stdout",
     "output_type": "stream",
     "text": [
      "共收集到 61166 个冲突块\n",
      "accept_ours:28541 , 46.66%\n",
      "mixline:6997 , 11.44%\n",
      "accept_theirs:13620 , 22.27%\n",
      "newline:10358 , 16.93%\n",
      "delete_all:255 , 0.42%\n",
      "concat_ours_theirs:915 , 1.50%\n",
      "accept_base:146 , 0.24%\n",
      "concat_theirs_ours:334 , 0.55%\n"
     ]
    }
   ],
   "source": [
    "from collections import defaultdict\n",
    "import os\n",
    "import json\n",
    "from util import Conflict\n",
    "from tqdm import tqdm\n",
    "from pathlib import Path\n",
    "\n",
    "file_path = Path(os.path.abspath(''))\n",
    "\n",
    "def getAllSubFiles(dirPath: str):\n",
    "    for root, _, files in os.walk(dirPath):\n",
    "        for file in files:\n",
    "            if(file.endswith(\".json\")):\n",
    "                yield os.path.join(root, file)\n",
    "\n",
    "\n",
    "paths = list(getAllSubFiles(file_path / \"data/index_conflict_files/\"))\n",
    "\n",
    "fields = [\"ours\", \"theirs\", \"base\", \"resolve\"]\n",
    "results = []\n",
    "\n",
    "whitespace_conflict = 0\n",
    "\n",
    "kind_counter = defaultdict(int)\n",
    "\n",
    "for jsonPath in tqdm(paths):\n",
    "    with open(jsonPath) as jsonFile:\n",
    "        jsonData = json.load(jsonFile)\n",
    "\n",
    "        for chunk in jsonData[\"conflicting_chunks\"]:\n",
    "            \n",
    "            if 'resolve' not in chunk: continue    # 本次收集不包含没有 resolution 的冲突块\n",
    "            \n",
    "            codes = [chunk['a_contents'], chunk['b_contents'],\n",
    "                     chunk['base_contents'], chunk['resolve']]\n",
    "            conflict_map = dict()\n",
    "\n",
    "            if codes[3] == None: continue           # 本次收集不包含没有 resolution 的冲突块\n",
    "            \n",
    "\n",
    "            codes = list(map(lambda s: str(s).strip(\"\\n\").split(\"\\n\"), codes))\n",
    "\n",
    "            for i in range(4):\n",
    "                # 去除空行 '' 不会被去除，但 '\\n', ' \\n', '\\n\\n', ' ' 会被去除，换行符的冲突会被显示为全空冲突\n",
    "                # codes[i] = list(filter(lambda line: not(line == '' or line.isspace()), codes[i]))     # 过滤空行\n",
    "                if codes[i] == ['']: codes[i] = []     # 过滤空行被匹配到编辑脚本的情况\n",
    "                conflict_map[fields[i]] = codes[i]\n",
    "\n",
    "            conflict = Conflict(conflict_map[fields[0]], conflict_map[fields[1]], conflict_map[fields[2]], conflict_map[fields[3]])\n",
    "\n",
    "            if 'resolution_kind' not in conflict_map:\n",
    "                if conflict_map[fields[3]] == conflict_map[fields[0]]:    # accept ours\n",
    "                    conflict_map['resolution_kind'] = 'accept_ours'\n",
    "                elif conflict_map[fields[3]] == conflict_map[fields[1]]:    # accept theirs\n",
    "                    conflict_map['resolution_kind'] = 'accept_theirs'\n",
    "                elif conflict_map[fields[3]] == conflict_map[fields[2]]:    # accept base\n",
    "                    conflict_map['resolution_kind'] = 'accept_base'\n",
    "                elif conflict_map[fields[3]] in[[''], []]:\n",
    "                    conflict_map['resolution_kind'] = 'delete_all'     # MergeBert 数据集中 resolution 是 None 的应该是 lack of resolution？\n",
    "                elif not all(resolveline in conflict_map[fields[0]] + conflict_map[fields[1]] + conflict_map[fields[2]] for resolveline in conflict_map[fields[3]]):  # newline\n",
    "                    conflict_map['resolution_kind'] = 'newline'\n",
    "                elif conflict_map[fields[3]] == conflict_map[fields[0]] + conflict_map[fields[1]]:\n",
    "                    conflict_map['resolution_kind'] = 'concat_ours_theirs'\n",
    "                elif conflict_map[fields[3]] == conflict_map[fields[1]] + conflict_map[fields[0]]:\n",
    "                    conflict_map['resolution_kind'] = 'concat_theirs_ours'\n",
    "                elif all(resolveline in conflict_map[fields[0]] + conflict_map[fields[1]] + conflict_map[fields[2]] for resolveline in conflict_map[fields[3]]):\n",
    "                    conflict_map['resolution_kind'] = 'mixline'\n",
    "                else:\n",
    "                    conflict_map['resolution_kind'] = 'others'\n",
    "\n",
    "            kind_counter[conflict_map['resolution_kind']] += 1\n",
    "\n",
    "            results.append(conflict_map)\n",
    "\n",
    "print(f'共收集到 {len(results)} 个冲突块')\n",
    "\n",
    "for k, v in kind_counter.items():\n",
    "    print(f'{k}:{v} , {v/len(results)*100:.2f}%')\n",
    "\n",
    "with open( file_path / \"output/self_collected_most_50.json\", \"w\") as f:\n",
    "    json.dump(results, f)\n"
   ]
  },
  {
   "cell_type": "markdown",
   "metadata": {},
   "source": [
    "## 处理数据\n",
    "\n",
    "分析各类别占比，以及采用规则能够解决的数量占比"
   ]
  },
  {
   "cell_type": "code",
   "execution_count": 2,
   "metadata": {},
   "outputs": [
    {
     "name": "stderr",
     "output_type": "stream",
     "text": [
      "Processing conflicts: 100%|██████████| 61166/61166 [12:11<00:00, 83.58it/s]   "
     ]
    },
    {
     "name": "stdout",
     "output_type": "stream",
     "text": [
      "没有重叠，可以提供推荐的数量: 15766/61166 = 25.77575777392669%\n",
      "过滤空行之前 准确率: 5867/61166 = 9.59193015727692%，占可以提供推荐的 37.21298997843461%\n",
      "过滤空行之后 准确率: 6850/61166 = 11.199032142039696%，占可以提供推荐的 43.44792591652924%\n",
      "\n",
      "各种类型的冲突数量：\n",
      "accept_ours:28541 , 46.66%\n",
      "mixline:6997 , 11.44%\n",
      "accept_theirs:13620 , 22.27%\n",
      "newline:10358 , 16.93%\n",
      "delete_all:255 , 0.42%\n",
      "concat_ours_theirs:915 , 1.50%\n",
      "accept_base:146 , 0.24%\n",
      "concat_theirs_ours:334 , 0.55%\n",
      "\n",
      "各种类型的冲突正确率：\n",
      "accept_ours:479/28541 , 1.68%\n",
      "mixline:4066/6997 , 58.11%\n",
      "accept_theirs:374/13620 , 2.75%\n",
      "newline:0/10358 , 0.00%\n",
      "delete_all:109/255 , 42.75%\n",
      "concat_ours_theirs:838/915 , 91.58%\n",
      "accept_base:1/146 , 0.68%\n",
      "concat_theirs_ours:0/334 , 0.00%\n"
     ]
    },
    {
     "name": "stderr",
     "output_type": "stream",
     "text": [
      "\n"
     ]
    }
   ],
   "source": [
    "import re\n",
    "from collections import defaultdict\n",
    "import os\n",
    "import json\n",
    "from util import Conflict\n",
    "from tqdm import tqdm\n",
    "from pathlib import Path\n",
    "from dpbt import compute\n",
    "\n",
    "file_path = Path(os.path.abspath(''))\n",
    "\n",
    "# 读取冲突数据集\n",
    "with open(file_path / 'output/self_collected_most_50.json', 'r') as f:\n",
    "    data = json.load(f)\n",
    "\n",
    "conflicts = [Conflict(conflict['ours'], conflict['theirs'],\n",
    "                      conflict['base'], conflict['resolve'], conflict['resolution_kind']) for conflict in data]\n",
    "\n",
    "correct_with_no_empty_line = 0\n",
    "resolution_offerable_kind = defaultdict(int)\n",
    "kind_counter = defaultdict(int)\n",
    "correct_counter = defaultdict(int)\n",
    "\n",
    "for i, conflict in enumerate(tqdm(conflicts[:], desc=\"Processing conflicts\")):\n",
    "    kind_counter[conflict.resolution_kind] += 1\n",
    "\n",
    "    from_ours = compute(conflict.base, conflict.ours)\n",
    "    from_theirs = compute(conflict.base, conflict.theirs)\n",
    "\n",
    "    from_ours = sorted(from_ours, key=lambda x: x.seq1Range.start)\n",
    "    from_theirs = sorted(from_theirs, key=lambda x: x.seq1Range.start)\n",
    "    \n",
    "    generated = []\n",
    "    i, j = 0, 0\n",
    "    end = 0\n",
    "    inf = float('inf')\n",
    "    while i < len(from_ours) and j < len(from_theirs):  # 要在没有交集的前提下，按照顺序合并\n",
    "        # 双指针\n",
    "        ours_base_start, ours_base_end = from_ours[i].seq1Range.start, from_ours[i].seq1Range.end\n",
    "        theirs_base_start, theirs_base_end = from_theirs[j].seq1Range.start, from_theirs[j].seq1Range.end\n",
    "        if from_ours[i].seq1Range.intersect(from_theirs[j].seq1Range) != None:\n",
    "            i = inf\n",
    "            break\n",
    "        if ours_base_start < theirs_base_start:\n",
    "            generated.extend(conflict.base[end:ours_base_start])\n",
    "            generated.extend(conflict.ours[from_ours[i].seq2Range.start:from_ours[i].seq2Range.end])\n",
    "            end = ours_base_end\n",
    "            i += 1\n",
    "        elif ours_base_start > theirs_base_start:\n",
    "            generated.extend(conflict.base[end:theirs_base_start])\n",
    "            generated.extend(conflict.theirs[from_theirs[j].seq2Range.start:from_theirs[j].seq2Range.end])\n",
    "            end = theirs_base_end\n",
    "            j += 1\n",
    "        else:\n",
    "            generated.extend(conflict.base[end:ours_base_start])\n",
    "            if ours_base_end <= theirs_base_end:\n",
    "                generated.extend(conflict.ours[from_ours[i].seq2Range.start:from_ours[i].seq2Range.end])\n",
    "                generated.extend(conflict.theirs[from_theirs[j].seq2Range.start:from_theirs[j].seq2Range.end])\n",
    "                end = theirs_base_end\n",
    "            else:\n",
    "                generated.extend(conflict.theirs[from_theirs[j].seq2Range.start:from_theirs[j].seq2Range.end])\n",
    "                generated.extend(conflict.ours[from_ours[i].seq2Range.start:from_ours[i].seq2Range.end])\n",
    "                end = ours_base_end\n",
    "            i += 1\n",
    "            j += 1\n",
    "    \n",
    "    if i == inf:    # 有交集\n",
    "        continue\n",
    "    resolution_offerable_kind[conflict.resolution_kind] += 1\n",
    "\n",
    "    for diff_ours in from_ours[i:]:\n",
    "        generated.extend(conflict.base[end:diff_ours.seq1Range.start])\n",
    "        end = diff_ours.seq1Range.end\n",
    "        generated.extend(\n",
    "            conflict.ours[diff_ours.seq2Range.start:diff_ours.seq2Range.end])\n",
    "    for diff_theirs in from_theirs[j:]:\n",
    "        generated.extend(conflict.base[end:diff_theirs.seq1Range.start])\n",
    "        end = diff_theirs.seq1Range.end\n",
    "        generated.extend(\n",
    "            conflict.theirs[diff_theirs.seq2Range.start:diff_theirs.seq2Range.end])\n",
    "    generated.extend(conflict.base[end:])  # base有尾巴的话加上\n",
    "    if generated == conflict.resolution:    # 完全相同\n",
    "        correct_counter[conflict.resolution_kind] += 1\n",
    "\n",
    "    def if_empty_line(line):\n",
    "        # 使用正则表达式判断字符串 line 是否全为空白符\n",
    "        return re.match(r'^\\s*$', line) is not None\n",
    "\n",
    "    if [x for x in generated if not if_empty_line(x)] == [x for x in conflict.resolution if not if_empty_line(x)]:\n",
    "        # todo: 考虑过滤空格影响\n",
    "        correct_with_no_empty_line += 1\n",
    "\n",
    "correct = sum(correct_counter.values())\n",
    "resolution_offerable = sum(resolution_offerable_kind.values())\n",
    "conflict_sum = sum(kind_counter.values())\n",
    "print(\n",
    "    f'没有重叠，可以提供推荐的数量: {resolution_offerable}/{conflict_sum} = {resolution_offerable/conflict_sum * 100}%')\n",
    "print(\n",
    "    f'过滤空行之前 准确率: {correct}/{conflict_sum} = {correct/conflict_sum * 100}%，占可以提供推荐的 {correct/resolution_offerable * 100}%')\n",
    "print(\n",
    "    f'过滤空行之后 准确率: {correct_with_no_empty_line}/{conflict_sum} = {correct_with_no_empty_line/conflict_sum * 100}%，占可以提供推荐的 {correct_with_no_empty_line/resolution_offerable * 100}%')\n",
    "\n",
    "print()\n",
    "print('各种类型的冲突数量：')\n",
    "for k, v in kind_counter.items():\n",
    "    print(f'{k}:{v} , {v/conflict_sum*100:.2f}%')\n",
    "\n",
    "print()\n",
    "print('各种类型的冲突正确率：')\n",
    "for k, v in kind_counter.items():\n",
    "    print(f'{k}:{correct_counter[k]}/{v} , {correct_counter[k]/v*100:.2f}%')"
   ]
  },
  {
   "cell_type": "markdown",
   "metadata": {},
   "source": [
    "## 结果可视化"
   ]
  },
  {
   "cell_type": "code",
   "execution_count": 1,
   "metadata": {},
   "outputs": [],
   "source": [
    "kind_counter = {\n",
    "    'accept_ours':28541,\n",
    "    'mixline': 6997,\n",
    "    'accept_theirs': 13620,\n",
    "    'newline': 10358,\n",
    "    'delete_all': 255,\n",
    "    'concat_ours_theirs': 915,\n",
    "    'accept_base': 146,\n",
    "    'concat_theirs_ours': 334,\n",
    "}"
   ]
  },
  {
   "cell_type": "code",
   "execution_count": 5,
   "metadata": {},
   "outputs": [
    {
     "data": {
      "application/vnd.plotly.v1+json": {
       "config": {
        "plotlyServerURL": "https://plot.ly"
       },
       "data": [
        {
         "labels": [
          "newline",
          "mixline",
          "accept_ours",
          "accept_theirs",
          "concat_ours_theirs",
          "concat_theirs_ours",
          "delete_all",
          "accept_base"
         ],
         "sort": false,
         "type": "pie",
         "values": [
          10358,
          6997,
          28541,
          13620,
          915,
          334,
          255,
          146
         ]
        }
       ],
       "layout": {
        "template": {
         "data": {
          "bar": [
           {
            "error_x": {
             "color": "#2a3f5f"
            },
            "error_y": {
             "color": "#2a3f5f"
            },
            "marker": {
             "line": {
              "color": "#E5ECF6",
              "width": 0.5
             },
             "pattern": {
              "fillmode": "overlay",
              "size": 10,
              "solidity": 0.2
             }
            },
            "type": "bar"
           }
          ],
          "barpolar": [
           {
            "marker": {
             "line": {
              "color": "#E5ECF6",
              "width": 0.5
             },
             "pattern": {
              "fillmode": "overlay",
              "size": 10,
              "solidity": 0.2
             }
            },
            "type": "barpolar"
           }
          ],
          "carpet": [
           {
            "aaxis": {
             "endlinecolor": "#2a3f5f",
             "gridcolor": "white",
             "linecolor": "white",
             "minorgridcolor": "white",
             "startlinecolor": "#2a3f5f"
            },
            "baxis": {
             "endlinecolor": "#2a3f5f",
             "gridcolor": "white",
             "linecolor": "white",
             "minorgridcolor": "white",
             "startlinecolor": "#2a3f5f"
            },
            "type": "carpet"
           }
          ],
          "choropleth": [
           {
            "colorbar": {
             "outlinewidth": 0,
             "ticks": ""
            },
            "type": "choropleth"
           }
          ],
          "contour": [
           {
            "colorbar": {
             "outlinewidth": 0,
             "ticks": ""
            },
            "colorscale": [
             [
              0,
              "#0d0887"
             ],
             [
              0.1111111111111111,
              "#46039f"
             ],
             [
              0.2222222222222222,
              "#7201a8"
             ],
             [
              0.3333333333333333,
              "#9c179e"
             ],
             [
              0.4444444444444444,
              "#bd3786"
             ],
             [
              0.5555555555555556,
              "#d8576b"
             ],
             [
              0.6666666666666666,
              "#ed7953"
             ],
             [
              0.7777777777777778,
              "#fb9f3a"
             ],
             [
              0.8888888888888888,
              "#fdca26"
             ],
             [
              1,
              "#f0f921"
             ]
            ],
            "type": "contour"
           }
          ],
          "contourcarpet": [
           {
            "colorbar": {
             "outlinewidth": 0,
             "ticks": ""
            },
            "type": "contourcarpet"
           }
          ],
          "heatmap": [
           {
            "colorbar": {
             "outlinewidth": 0,
             "ticks": ""
            },
            "colorscale": [
             [
              0,
              "#0d0887"
             ],
             [
              0.1111111111111111,
              "#46039f"
             ],
             [
              0.2222222222222222,
              "#7201a8"
             ],
             [
              0.3333333333333333,
              "#9c179e"
             ],
             [
              0.4444444444444444,
              "#bd3786"
             ],
             [
              0.5555555555555556,
              "#d8576b"
             ],
             [
              0.6666666666666666,
              "#ed7953"
             ],
             [
              0.7777777777777778,
              "#fb9f3a"
             ],
             [
              0.8888888888888888,
              "#fdca26"
             ],
             [
              1,
              "#f0f921"
             ]
            ],
            "type": "heatmap"
           }
          ],
          "heatmapgl": [
           {
            "colorbar": {
             "outlinewidth": 0,
             "ticks": ""
            },
            "colorscale": [
             [
              0,
              "#0d0887"
             ],
             [
              0.1111111111111111,
              "#46039f"
             ],
             [
              0.2222222222222222,
              "#7201a8"
             ],
             [
              0.3333333333333333,
              "#9c179e"
             ],
             [
              0.4444444444444444,
              "#bd3786"
             ],
             [
              0.5555555555555556,
              "#d8576b"
             ],
             [
              0.6666666666666666,
              "#ed7953"
             ],
             [
              0.7777777777777778,
              "#fb9f3a"
             ],
             [
              0.8888888888888888,
              "#fdca26"
             ],
             [
              1,
              "#f0f921"
             ]
            ],
            "type": "heatmapgl"
           }
          ],
          "histogram": [
           {
            "marker": {
             "pattern": {
              "fillmode": "overlay",
              "size": 10,
              "solidity": 0.2
             }
            },
            "type": "histogram"
           }
          ],
          "histogram2d": [
           {
            "colorbar": {
             "outlinewidth": 0,
             "ticks": ""
            },
            "colorscale": [
             [
              0,
              "#0d0887"
             ],
             [
              0.1111111111111111,
              "#46039f"
             ],
             [
              0.2222222222222222,
              "#7201a8"
             ],
             [
              0.3333333333333333,
              "#9c179e"
             ],
             [
              0.4444444444444444,
              "#bd3786"
             ],
             [
              0.5555555555555556,
              "#d8576b"
             ],
             [
              0.6666666666666666,
              "#ed7953"
             ],
             [
              0.7777777777777778,
              "#fb9f3a"
             ],
             [
              0.8888888888888888,
              "#fdca26"
             ],
             [
              1,
              "#f0f921"
             ]
            ],
            "type": "histogram2d"
           }
          ],
          "histogram2dcontour": [
           {
            "colorbar": {
             "outlinewidth": 0,
             "ticks": ""
            },
            "colorscale": [
             [
              0,
              "#0d0887"
             ],
             [
              0.1111111111111111,
              "#46039f"
             ],
             [
              0.2222222222222222,
              "#7201a8"
             ],
             [
              0.3333333333333333,
              "#9c179e"
             ],
             [
              0.4444444444444444,
              "#bd3786"
             ],
             [
              0.5555555555555556,
              "#d8576b"
             ],
             [
              0.6666666666666666,
              "#ed7953"
             ],
             [
              0.7777777777777778,
              "#fb9f3a"
             ],
             [
              0.8888888888888888,
              "#fdca26"
             ],
             [
              1,
              "#f0f921"
             ]
            ],
            "type": "histogram2dcontour"
           }
          ],
          "mesh3d": [
           {
            "colorbar": {
             "outlinewidth": 0,
             "ticks": ""
            },
            "type": "mesh3d"
           }
          ],
          "parcoords": [
           {
            "line": {
             "colorbar": {
              "outlinewidth": 0,
              "ticks": ""
             }
            },
            "type": "parcoords"
           }
          ],
          "pie": [
           {
            "automargin": true,
            "type": "pie"
           }
          ],
          "scatter": [
           {
            "fillpattern": {
             "fillmode": "overlay",
             "size": 10,
             "solidity": 0.2
            },
            "type": "scatter"
           }
          ],
          "scatter3d": [
           {
            "line": {
             "colorbar": {
              "outlinewidth": 0,
              "ticks": ""
             }
            },
            "marker": {
             "colorbar": {
              "outlinewidth": 0,
              "ticks": ""
             }
            },
            "type": "scatter3d"
           }
          ],
          "scattercarpet": [
           {
            "marker": {
             "colorbar": {
              "outlinewidth": 0,
              "ticks": ""
             }
            },
            "type": "scattercarpet"
           }
          ],
          "scattergeo": [
           {
            "marker": {
             "colorbar": {
              "outlinewidth": 0,
              "ticks": ""
             }
            },
            "type": "scattergeo"
           }
          ],
          "scattergl": [
           {
            "marker": {
             "colorbar": {
              "outlinewidth": 0,
              "ticks": ""
             }
            },
            "type": "scattergl"
           }
          ],
          "scattermapbox": [
           {
            "marker": {
             "colorbar": {
              "outlinewidth": 0,
              "ticks": ""
             }
            },
            "type": "scattermapbox"
           }
          ],
          "scatterpolar": [
           {
            "marker": {
             "colorbar": {
              "outlinewidth": 0,
              "ticks": ""
             }
            },
            "type": "scatterpolar"
           }
          ],
          "scatterpolargl": [
           {
            "marker": {
             "colorbar": {
              "outlinewidth": 0,
              "ticks": ""
             }
            },
            "type": "scatterpolargl"
           }
          ],
          "scatterternary": [
           {
            "marker": {
             "colorbar": {
              "outlinewidth": 0,
              "ticks": ""
             }
            },
            "type": "scatterternary"
           }
          ],
          "surface": [
           {
            "colorbar": {
             "outlinewidth": 0,
             "ticks": ""
            },
            "colorscale": [
             [
              0,
              "#0d0887"
             ],
             [
              0.1111111111111111,
              "#46039f"
             ],
             [
              0.2222222222222222,
              "#7201a8"
             ],
             [
              0.3333333333333333,
              "#9c179e"
             ],
             [
              0.4444444444444444,
              "#bd3786"
             ],
             [
              0.5555555555555556,
              "#d8576b"
             ],
             [
              0.6666666666666666,
              "#ed7953"
             ],
             [
              0.7777777777777778,
              "#fb9f3a"
             ],
             [
              0.8888888888888888,
              "#fdca26"
             ],
             [
              1,
              "#f0f921"
             ]
            ],
            "type": "surface"
           }
          ],
          "table": [
           {
            "cells": {
             "fill": {
              "color": "#EBF0F8"
             },
             "line": {
              "color": "white"
             }
            },
            "header": {
             "fill": {
              "color": "#C8D4E3"
             },
             "line": {
              "color": "white"
             }
            },
            "type": "table"
           }
          ]
         },
         "layout": {
          "annotationdefaults": {
           "arrowcolor": "#2a3f5f",
           "arrowhead": 0,
           "arrowwidth": 1
          },
          "autotypenumbers": "strict",
          "coloraxis": {
           "colorbar": {
            "outlinewidth": 0,
            "ticks": ""
           }
          },
          "colorscale": {
           "diverging": [
            [
             0,
             "#8e0152"
            ],
            [
             0.1,
             "#c51b7d"
            ],
            [
             0.2,
             "#de77ae"
            ],
            [
             0.3,
             "#f1b6da"
            ],
            [
             0.4,
             "#fde0ef"
            ],
            [
             0.5,
             "#f7f7f7"
            ],
            [
             0.6,
             "#e6f5d0"
            ],
            [
             0.7,
             "#b8e186"
            ],
            [
             0.8,
             "#7fbc41"
            ],
            [
             0.9,
             "#4d9221"
            ],
            [
             1,
             "#276419"
            ]
           ],
           "sequential": [
            [
             0,
             "#0d0887"
            ],
            [
             0.1111111111111111,
             "#46039f"
            ],
            [
             0.2222222222222222,
             "#7201a8"
            ],
            [
             0.3333333333333333,
             "#9c179e"
            ],
            [
             0.4444444444444444,
             "#bd3786"
            ],
            [
             0.5555555555555556,
             "#d8576b"
            ],
            [
             0.6666666666666666,
             "#ed7953"
            ],
            [
             0.7777777777777778,
             "#fb9f3a"
            ],
            [
             0.8888888888888888,
             "#fdca26"
            ],
            [
             1,
             "#f0f921"
            ]
           ],
           "sequentialminus": [
            [
             0,
             "#0d0887"
            ],
            [
             0.1111111111111111,
             "#46039f"
            ],
            [
             0.2222222222222222,
             "#7201a8"
            ],
            [
             0.3333333333333333,
             "#9c179e"
            ],
            [
             0.4444444444444444,
             "#bd3786"
            ],
            [
             0.5555555555555556,
             "#d8576b"
            ],
            [
             0.6666666666666666,
             "#ed7953"
            ],
            [
             0.7777777777777778,
             "#fb9f3a"
            ],
            [
             0.8888888888888888,
             "#fdca26"
            ],
            [
             1,
             "#f0f921"
            ]
           ]
          },
          "colorway": [
           "#636efa",
           "#EF553B",
           "#00cc96",
           "#ab63fa",
           "#FFA15A",
           "#19d3f3",
           "#FF6692",
           "#B6E880",
           "#FF97FF",
           "#FECB52"
          ],
          "font": {
           "color": "#2a3f5f"
          },
          "geo": {
           "bgcolor": "white",
           "lakecolor": "white",
           "landcolor": "#E5ECF6",
           "showlakes": true,
           "showland": true,
           "subunitcolor": "white"
          },
          "hoverlabel": {
           "align": "left"
          },
          "hovermode": "closest",
          "mapbox": {
           "style": "light"
          },
          "paper_bgcolor": "white",
          "plot_bgcolor": "#E5ECF6",
          "polar": {
           "angularaxis": {
            "gridcolor": "white",
            "linecolor": "white",
            "ticks": ""
           },
           "bgcolor": "#E5ECF6",
           "radialaxis": {
            "gridcolor": "white",
            "linecolor": "white",
            "ticks": ""
           }
          },
          "scene": {
           "xaxis": {
            "backgroundcolor": "#E5ECF6",
            "gridcolor": "white",
            "gridwidth": 2,
            "linecolor": "white",
            "showbackground": true,
            "ticks": "",
            "zerolinecolor": "white"
           },
           "yaxis": {
            "backgroundcolor": "#E5ECF6",
            "gridcolor": "white",
            "gridwidth": 2,
            "linecolor": "white",
            "showbackground": true,
            "ticks": "",
            "zerolinecolor": "white"
           },
           "zaxis": {
            "backgroundcolor": "#E5ECF6",
            "gridcolor": "white",
            "gridwidth": 2,
            "linecolor": "white",
            "showbackground": true,
            "ticks": "",
            "zerolinecolor": "white"
           }
          },
          "shapedefaults": {
           "line": {
            "color": "#2a3f5f"
           }
          },
          "ternary": {
           "aaxis": {
            "gridcolor": "white",
            "linecolor": "white",
            "ticks": ""
           },
           "baxis": {
            "gridcolor": "white",
            "linecolor": "white",
            "ticks": ""
           },
           "bgcolor": "#E5ECF6",
           "caxis": {
            "gridcolor": "white",
            "linecolor": "white",
            "ticks": ""
           }
          },
          "title": {
           "x": 0.05
          },
          "xaxis": {
           "automargin": true,
           "gridcolor": "white",
           "linecolor": "white",
           "ticks": "",
           "title": {
            "standoff": 15
           },
           "zerolinecolor": "white",
           "zerolinewidth": 2
          },
          "yaxis": {
           "automargin": true,
           "gridcolor": "white",
           "linecolor": "white",
           "ticks": "",
           "title": {
            "standoff": 15
           },
           "zerolinecolor": "white",
           "zerolinewidth": 2
          }
         }
        },
        "title": {
         "text": "解决类型分布"
        },
        "width": 600
       }
      }
     },
     "metadata": {},
     "output_type": "display_data"
    }
   ],
   "source": [
    "# 绘制所有类型冲突的占比饼图\n",
    "import plotly.graph_objects as go\n",
    "\n",
    "# 和 MergeBERT数据集图片对应\n",
    "_labels = ['newline', 'mixline', 'accept_ours', 'accept_theirs', 'concat_ours_theirs', 'concat_theirs_ours', 'delete_all', 'accept_base']\n",
    "_values = [kind_counter[label] for label in _labels]\n",
    "\n",
    "# 按label的顺序，顺时针绘制饼图\n",
    "# 注意：按顺序\n",
    "fig = go.Figure(data=[go.Pie(labels=_labels, values=_values, sort=False)])\n",
    "\n",
    "# Updating the layout for better visualization\n",
    "fig.update_layout(title_text='解决类型分布', width=600)\n",
    "\n",
    "# Showing the pie chart\n",
    "fig.show()"
   ]
  },
  {
   "cell_type": "code",
   "execution_count": 13,
   "metadata": {},
   "outputs": [
    {
     "data": {
      "text/html": [
       "<div>\n",
       "<style scoped>\n",
       "    .dataframe tbody tr th:only-of-type {\n",
       "        vertical-align: middle;\n",
       "    }\n",
       "\n",
       "    .dataframe tbody tr th {\n",
       "        vertical-align: top;\n",
       "    }\n",
       "\n",
       "    .dataframe thead th {\n",
       "        text-align: right;\n",
       "    }\n",
       "</style>\n",
       "<table border=\"1\" class=\"dataframe\">\n",
       "  <thead>\n",
       "    <tr style=\"text-align: right;\">\n",
       "      <th></th>\n",
       "      <th>类别</th>\n",
       "      <th>伪冲突占比</th>\n",
       "    </tr>\n",
       "  </thead>\n",
       "  <tbody>\n",
       "    <tr>\n",
       "      <th>0</th>\n",
       "      <td>accept_ours</td>\n",
       "      <td>14.46%</td>\n",
       "    </tr>\n",
       "    <tr>\n",
       "      <th>1</th>\n",
       "      <td>mixline</td>\n",
       "      <td>77.53%</td>\n",
       "    </tr>\n",
       "    <tr>\n",
       "      <th>2</th>\n",
       "      <td>accept_theirs</td>\n",
       "      <td>21.79%</td>\n",
       "    </tr>\n",
       "    <tr>\n",
       "      <th>3</th>\n",
       "      <td>newline</td>\n",
       "      <td>17.3%</td>\n",
       "    </tr>\n",
       "    <tr>\n",
       "      <th>4</th>\n",
       "      <td>delete_all</td>\n",
       "      <td>55.69%</td>\n",
       "    </tr>\n",
       "    <tr>\n",
       "      <th>5</th>\n",
       "      <td>concat_ours_theirs</td>\n",
       "      <td>97.16%</td>\n",
       "    </tr>\n",
       "    <tr>\n",
       "      <th>6</th>\n",
       "      <td>accept_base</td>\n",
       "      <td>66.44%</td>\n",
       "    </tr>\n",
       "    <tr>\n",
       "      <th>7</th>\n",
       "      <td>concat_theirs_ours</td>\n",
       "      <td>97.9%</td>\n",
       "    </tr>\n",
       "  </tbody>\n",
       "</table>\n",
       "</div>"
      ],
      "text/plain": [
       "                   类别   伪冲突占比\n",
       "0         accept_ours  14.46%\n",
       "1             mixline  77.53%\n",
       "2       accept_theirs  21.79%\n",
       "3             newline   17.3%\n",
       "4          delete_all  55.69%\n",
       "5  concat_ours_theirs  97.16%\n",
       "6         accept_base  66.44%\n",
       "7  concat_theirs_ours   97.9%"
      ]
     },
     "execution_count": 13,
     "metadata": {},
     "output_type": "execute_result"
    }
   ],
   "source": [
    "import pandas as pd\n",
    "# 所有语言数据中伪冲突的比例\n",
    "\n",
    "suggestion_given_rate = {\n",
    "    k: resolution_offerable_kind[k]/v*100 for k, v in kind_counter.items()\n",
    "}\n",
    "suggestion_given_rate_df_dic = {'类别':suggestion_given_rate.keys(), '伪冲突占比':suggestion_given_rate.values()}\n",
    "falsepositive_rate = pd.DataFrame(suggestion_given_rate_df_dic)\n",
    "falsepositive_rate['伪冲突占比'] = falsepositive_rate['伪冲突占比'].round(2)\n",
    "falsepositive_rate['伪冲突占比'] = falsepositive_rate['伪冲突占比'].apply(lambda x: str(x)+'%')\n",
    "falsepositive_rate"
   ]
  },
  {
   "cell_type": "code",
   "execution_count": 9,
   "metadata": {},
   "outputs": [
    {
     "data": {
      "text/html": [
       "<div>\n",
       "<style scoped>\n",
       "    .dataframe tbody tr th:only-of-type {\n",
       "        vertical-align: middle;\n",
       "    }\n",
       "\n",
       "    .dataframe tbody tr th {\n",
       "        vertical-align: top;\n",
       "    }\n",
       "\n",
       "    .dataframe thead th {\n",
       "        text-align: right;\n",
       "    }\n",
       "</style>\n",
       "<table border=\"1\" class=\"dataframe\">\n",
       "  <thead>\n",
       "    <tr style=\"text-align: right;\">\n",
       "      <th></th>\n",
       "      <th>类别</th>\n",
       "      <th>正确率</th>\n",
       "    </tr>\n",
       "  </thead>\n",
       "  <tbody>\n",
       "    <tr>\n",
       "      <th>0</th>\n",
       "      <td>accept_ours</td>\n",
       "      <td>1.68%</td>\n",
       "    </tr>\n",
       "    <tr>\n",
       "      <th>1</th>\n",
       "      <td>mixline</td>\n",
       "      <td>58.11%</td>\n",
       "    </tr>\n",
       "    <tr>\n",
       "      <th>2</th>\n",
       "      <td>accept_theirs</td>\n",
       "      <td>2.75%</td>\n",
       "    </tr>\n",
       "    <tr>\n",
       "      <th>3</th>\n",
       "      <td>newline</td>\n",
       "      <td>0.0%</td>\n",
       "    </tr>\n",
       "    <tr>\n",
       "      <th>4</th>\n",
       "      <td>delete_all</td>\n",
       "      <td>42.75%</td>\n",
       "    </tr>\n",
       "    <tr>\n",
       "      <th>5</th>\n",
       "      <td>concat_ours_theirs</td>\n",
       "      <td>91.58%</td>\n",
       "    </tr>\n",
       "    <tr>\n",
       "      <th>6</th>\n",
       "      <td>accept_base</td>\n",
       "      <td>0.68%</td>\n",
       "    </tr>\n",
       "    <tr>\n",
       "      <th>7</th>\n",
       "      <td>concat_theirs_ours</td>\n",
       "      <td>0.0%</td>\n",
       "    </tr>\n",
       "  </tbody>\n",
       "</table>\n",
       "</div>"
      ],
      "text/plain": [
       "                   类别     正确率\n",
       "0         accept_ours   1.68%\n",
       "1             mixline  58.11%\n",
       "2       accept_theirs   2.75%\n",
       "3             newline    0.0%\n",
       "4          delete_all  42.75%\n",
       "5  concat_ours_theirs  91.58%\n",
       "6         accept_base   0.68%\n",
       "7  concat_theirs_ours    0.0%"
      ]
     },
     "execution_count": 9,
     "metadata": {},
     "output_type": "execute_result"
    }
   ],
   "source": [
    "# 所有语言数据中冲突的解决比例\n",
    "import pandas as pd\n",
    "correct_rate = {\n",
    "    k: correct_counter[k]/v*100 for k, v in kind_counter.items()\n",
    "}\n",
    "correct_rate_df_dic = {'类别':correct_rate.keys(), '正确率':correct_rate.values()}\n",
    "correct_rate_df = pd.DataFrame(correct_rate_df_dic)\n",
    "correct_rate_df['正确率'] = correct_rate_df['正确率'].round(2)\n",
    "correct_rate_df['正确率'] = correct_rate_df['正确率'].apply(lambda x: str(x)+'%')\n",
    "correct_rate_df"
   ]
  },
  {
   "cell_type": "code",
   "execution_count": 10,
   "metadata": {},
   "outputs": [
    {
     "data": {
      "text/html": [
       "<div>\n",
       "<style scoped>\n",
       "    .dataframe tbody tr th:only-of-type {\n",
       "        vertical-align: middle;\n",
       "    }\n",
       "\n",
       "    .dataframe tbody tr th {\n",
       "        vertical-align: top;\n",
       "    }\n",
       "\n",
       "    .dataframe thead th {\n",
       "        text-align: right;\n",
       "    }\n",
       "</style>\n",
       "<table border=\"1\" class=\"dataframe\">\n",
       "  <thead>\n",
       "    <tr style=\"text-align: right;\">\n",
       "      <th></th>\n",
       "      <th>类别</th>\n",
       "      <th>伪冲突解决正确率</th>\n",
       "    </tr>\n",
       "  </thead>\n",
       "  <tbody>\n",
       "    <tr>\n",
       "      <th>5</th>\n",
       "      <td>concat_ours_theirs</td>\n",
       "      <td>94.26%</td>\n",
       "    </tr>\n",
       "    <tr>\n",
       "      <th>4</th>\n",
       "      <td>delete_all</td>\n",
       "      <td>76.76%</td>\n",
       "    </tr>\n",
       "    <tr>\n",
       "      <th>1</th>\n",
       "      <td>mixline</td>\n",
       "      <td>74.95%</td>\n",
       "    </tr>\n",
       "    <tr>\n",
       "      <th>2</th>\n",
       "      <td>accept_theirs</td>\n",
       "      <td>12.6%</td>\n",
       "    </tr>\n",
       "    <tr>\n",
       "      <th>0</th>\n",
       "      <td>accept_ours</td>\n",
       "      <td>11.61%</td>\n",
       "    </tr>\n",
       "    <tr>\n",
       "      <th>6</th>\n",
       "      <td>accept_base</td>\n",
       "      <td>1.03%</td>\n",
       "    </tr>\n",
       "    <tr>\n",
       "      <th>3</th>\n",
       "      <td>newline</td>\n",
       "      <td>0.0%</td>\n",
       "    </tr>\n",
       "    <tr>\n",
       "      <th>7</th>\n",
       "      <td>concat_theirs_ours</td>\n",
       "      <td>0.0%</td>\n",
       "    </tr>\n",
       "  </tbody>\n",
       "</table>\n",
       "</div>"
      ],
      "text/plain": [
       "                   类别 伪冲突解决正确率\n",
       "5  concat_ours_theirs   94.26%\n",
       "4          delete_all   76.76%\n",
       "1             mixline   74.95%\n",
       "2       accept_theirs    12.6%\n",
       "0         accept_ours   11.61%\n",
       "6         accept_base    1.03%\n",
       "3             newline     0.0%\n",
       "7  concat_theirs_ours     0.0%"
      ]
     },
     "execution_count": 10,
     "metadata": {},
     "output_type": "execute_result"
    }
   ],
   "source": [
    "# 根据 伪冲突解决正确率 降序排列\n",
    "# 所有语言数据中各类别伪冲突的正确率\n",
    "import pandas as pd\n",
    "correct_out_of_givin_dic = {'类别':correct_rate.keys(), '伪冲突解决正确率':[correct_rate[i]/suggestion_given_rate[i] * 100 for i in correct_rate.keys()]}\n",
    "correct_out_of_givin_df = pd.DataFrame(correct_out_of_givin_dic)\n",
    "# 根据 伪冲突解决正确率 降序排列\n",
    "correct_out_of_givin_df = correct_out_of_givin_df.sort_values(by='伪冲突解决正确率', ascending=False)\n",
    "correct_out_of_givin_df['伪冲突解决正确率'] = correct_out_of_givin_df['伪冲突解决正确率'].round(2)\n",
    "correct_out_of_givin_df['伪冲突解决正确率'] = correct_out_of_givin_df['伪冲突解决正确率'].apply(lambda x: str(x)+'%')\n",
    "correct_out_of_givin_df"
   ]
  },
  {
   "cell_type": "code",
   "execution_count": 21,
   "metadata": {},
   "outputs": [
    {
     "data": {
      "application/vnd.plotly.v1+json": {
       "config": {
        "plotlyServerURL": "https://plot.ly"
       },
       "data": [
        {
         "customdata": [
          1.7,
          58.1,
          2.7,
          0,
          42.7,
          91.6,
          0.7,
          0
         ],
         "marker": {
          "color": "green"
         },
         "name": "correct",
         "texttemplate": "%{customdata}%",
         "type": "bar",
         "x": [
          "accept_ours",
          "mixline",
          "accept_theirs",
          "newline",
          "delete_all",
          "concat_ours_theirs",
          "accept_base",
          "concat_theirs_ours"
         ],
         "y": [
          479,
          4066,
          374,
          0,
          109,
          838,
          1,
          0
         ]
        },
        {
         "marker": {
          "color": "rgb(52,130,198)"
         },
         "name": "incorrect",
         "type": "bar",
         "x": [
          "accept_ours",
          "mixline",
          "accept_theirs",
          "newline",
          "delete_all",
          "concat_ours_theirs",
          "accept_base",
          "concat_theirs_ours"
         ],
         "y": [
          3647.0000000000005,
          1359,
          2594,
          1791.9999999999998,
          33.00000000000001,
          50.99999999999996,
          96.00000000000001,
          327
         ]
        },
        {
         "marker": {
          "color": "#aaa"
         },
         "name": "total",
         "type": "bar",
         "x": [
          "accept_ours",
          "mixline",
          "accept_theirs",
          "newline",
          "delete_all",
          "concat_ours_theirs",
          "accept_base",
          "concat_theirs_ours"
         ],
         "y": [
          24415,
          1571.9999999999998,
          10652,
          8566.000000000002,
          113,
          26.00000000000011,
          49,
          6.9999999999999964
         ]
        }
       ],
       "layout": {
        "bargap": 0.15,
        "bargroupgap": 0.1,
        "barmode": "stack",
        "legend": {
         "bgcolor": "rgba(255, 255, 255, 0)",
         "bordercolor": "rgba(255, 255, 255, 0)",
         "x": 0.8,
         "y": 1
        },
        "template": {
         "data": {
          "bar": [
           {
            "error_x": {
             "color": "#2a3f5f"
            },
            "error_y": {
             "color": "#2a3f5f"
            },
            "marker": {
             "line": {
              "color": "#E5ECF6",
              "width": 0.5
             },
             "pattern": {
              "fillmode": "overlay",
              "size": 10,
              "solidity": 0.2
             }
            },
            "type": "bar"
           }
          ],
          "barpolar": [
           {
            "marker": {
             "line": {
              "color": "#E5ECF6",
              "width": 0.5
             },
             "pattern": {
              "fillmode": "overlay",
              "size": 10,
              "solidity": 0.2
             }
            },
            "type": "barpolar"
           }
          ],
          "carpet": [
           {
            "aaxis": {
             "endlinecolor": "#2a3f5f",
             "gridcolor": "white",
             "linecolor": "white",
             "minorgridcolor": "white",
             "startlinecolor": "#2a3f5f"
            },
            "baxis": {
             "endlinecolor": "#2a3f5f",
             "gridcolor": "white",
             "linecolor": "white",
             "minorgridcolor": "white",
             "startlinecolor": "#2a3f5f"
            },
            "type": "carpet"
           }
          ],
          "choropleth": [
           {
            "colorbar": {
             "outlinewidth": 0,
             "ticks": ""
            },
            "type": "choropleth"
           }
          ],
          "contour": [
           {
            "colorbar": {
             "outlinewidth": 0,
             "ticks": ""
            },
            "colorscale": [
             [
              0,
              "#0d0887"
             ],
             [
              0.1111111111111111,
              "#46039f"
             ],
             [
              0.2222222222222222,
              "#7201a8"
             ],
             [
              0.3333333333333333,
              "#9c179e"
             ],
             [
              0.4444444444444444,
              "#bd3786"
             ],
             [
              0.5555555555555556,
              "#d8576b"
             ],
             [
              0.6666666666666666,
              "#ed7953"
             ],
             [
              0.7777777777777778,
              "#fb9f3a"
             ],
             [
              0.8888888888888888,
              "#fdca26"
             ],
             [
              1,
              "#f0f921"
             ]
            ],
            "type": "contour"
           }
          ],
          "contourcarpet": [
           {
            "colorbar": {
             "outlinewidth": 0,
             "ticks": ""
            },
            "type": "contourcarpet"
           }
          ],
          "heatmap": [
           {
            "colorbar": {
             "outlinewidth": 0,
             "ticks": ""
            },
            "colorscale": [
             [
              0,
              "#0d0887"
             ],
             [
              0.1111111111111111,
              "#46039f"
             ],
             [
              0.2222222222222222,
              "#7201a8"
             ],
             [
              0.3333333333333333,
              "#9c179e"
             ],
             [
              0.4444444444444444,
              "#bd3786"
             ],
             [
              0.5555555555555556,
              "#d8576b"
             ],
             [
              0.6666666666666666,
              "#ed7953"
             ],
             [
              0.7777777777777778,
              "#fb9f3a"
             ],
             [
              0.8888888888888888,
              "#fdca26"
             ],
             [
              1,
              "#f0f921"
             ]
            ],
            "type": "heatmap"
           }
          ],
          "heatmapgl": [
           {
            "colorbar": {
             "outlinewidth": 0,
             "ticks": ""
            },
            "colorscale": [
             [
              0,
              "#0d0887"
             ],
             [
              0.1111111111111111,
              "#46039f"
             ],
             [
              0.2222222222222222,
              "#7201a8"
             ],
             [
              0.3333333333333333,
              "#9c179e"
             ],
             [
              0.4444444444444444,
              "#bd3786"
             ],
             [
              0.5555555555555556,
              "#d8576b"
             ],
             [
              0.6666666666666666,
              "#ed7953"
             ],
             [
              0.7777777777777778,
              "#fb9f3a"
             ],
             [
              0.8888888888888888,
              "#fdca26"
             ],
             [
              1,
              "#f0f921"
             ]
            ],
            "type": "heatmapgl"
           }
          ],
          "histogram": [
           {
            "marker": {
             "pattern": {
              "fillmode": "overlay",
              "size": 10,
              "solidity": 0.2
             }
            },
            "type": "histogram"
           }
          ],
          "histogram2d": [
           {
            "colorbar": {
             "outlinewidth": 0,
             "ticks": ""
            },
            "colorscale": [
             [
              0,
              "#0d0887"
             ],
             [
              0.1111111111111111,
              "#46039f"
             ],
             [
              0.2222222222222222,
              "#7201a8"
             ],
             [
              0.3333333333333333,
              "#9c179e"
             ],
             [
              0.4444444444444444,
              "#bd3786"
             ],
             [
              0.5555555555555556,
              "#d8576b"
             ],
             [
              0.6666666666666666,
              "#ed7953"
             ],
             [
              0.7777777777777778,
              "#fb9f3a"
             ],
             [
              0.8888888888888888,
              "#fdca26"
             ],
             [
              1,
              "#f0f921"
             ]
            ],
            "type": "histogram2d"
           }
          ],
          "histogram2dcontour": [
           {
            "colorbar": {
             "outlinewidth": 0,
             "ticks": ""
            },
            "colorscale": [
             [
              0,
              "#0d0887"
             ],
             [
              0.1111111111111111,
              "#46039f"
             ],
             [
              0.2222222222222222,
              "#7201a8"
             ],
             [
              0.3333333333333333,
              "#9c179e"
             ],
             [
              0.4444444444444444,
              "#bd3786"
             ],
             [
              0.5555555555555556,
              "#d8576b"
             ],
             [
              0.6666666666666666,
              "#ed7953"
             ],
             [
              0.7777777777777778,
              "#fb9f3a"
             ],
             [
              0.8888888888888888,
              "#fdca26"
             ],
             [
              1,
              "#f0f921"
             ]
            ],
            "type": "histogram2dcontour"
           }
          ],
          "mesh3d": [
           {
            "colorbar": {
             "outlinewidth": 0,
             "ticks": ""
            },
            "type": "mesh3d"
           }
          ],
          "parcoords": [
           {
            "line": {
             "colorbar": {
              "outlinewidth": 0,
              "ticks": ""
             }
            },
            "type": "parcoords"
           }
          ],
          "pie": [
           {
            "automargin": true,
            "type": "pie"
           }
          ],
          "scatter": [
           {
            "fillpattern": {
             "fillmode": "overlay",
             "size": 10,
             "solidity": 0.2
            },
            "type": "scatter"
           }
          ],
          "scatter3d": [
           {
            "line": {
             "colorbar": {
              "outlinewidth": 0,
              "ticks": ""
             }
            },
            "marker": {
             "colorbar": {
              "outlinewidth": 0,
              "ticks": ""
             }
            },
            "type": "scatter3d"
           }
          ],
          "scattercarpet": [
           {
            "marker": {
             "colorbar": {
              "outlinewidth": 0,
              "ticks": ""
             }
            },
            "type": "scattercarpet"
           }
          ],
          "scattergeo": [
           {
            "marker": {
             "colorbar": {
              "outlinewidth": 0,
              "ticks": ""
             }
            },
            "type": "scattergeo"
           }
          ],
          "scattergl": [
           {
            "marker": {
             "colorbar": {
              "outlinewidth": 0,
              "ticks": ""
             }
            },
            "type": "scattergl"
           }
          ],
          "scattermapbox": [
           {
            "marker": {
             "colorbar": {
              "outlinewidth": 0,
              "ticks": ""
             }
            },
            "type": "scattermapbox"
           }
          ],
          "scatterpolar": [
           {
            "marker": {
             "colorbar": {
              "outlinewidth": 0,
              "ticks": ""
             }
            },
            "type": "scatterpolar"
           }
          ],
          "scatterpolargl": [
           {
            "marker": {
             "colorbar": {
              "outlinewidth": 0,
              "ticks": ""
             }
            },
            "type": "scatterpolargl"
           }
          ],
          "scatterternary": [
           {
            "marker": {
             "colorbar": {
              "outlinewidth": 0,
              "ticks": ""
             }
            },
            "type": "scatterternary"
           }
          ],
          "surface": [
           {
            "colorbar": {
             "outlinewidth": 0,
             "ticks": ""
            },
            "colorscale": [
             [
              0,
              "#0d0887"
             ],
             [
              0.1111111111111111,
              "#46039f"
             ],
             [
              0.2222222222222222,
              "#7201a8"
             ],
             [
              0.3333333333333333,
              "#9c179e"
             ],
             [
              0.4444444444444444,
              "#bd3786"
             ],
             [
              0.5555555555555556,
              "#d8576b"
             ],
             [
              0.6666666666666666,
              "#ed7953"
             ],
             [
              0.7777777777777778,
              "#fb9f3a"
             ],
             [
              0.8888888888888888,
              "#fdca26"
             ],
             [
              1,
              "#f0f921"
             ]
            ],
            "type": "surface"
           }
          ],
          "table": [
           {
            "cells": {
             "fill": {
              "color": "#EBF0F8"
             },
             "line": {
              "color": "white"
             }
            },
            "header": {
             "fill": {
              "color": "#C8D4E3"
             },
             "line": {
              "color": "white"
             }
            },
            "type": "table"
           }
          ]
         },
         "layout": {
          "annotationdefaults": {
           "arrowcolor": "#2a3f5f",
           "arrowhead": 0,
           "arrowwidth": 1
          },
          "autotypenumbers": "strict",
          "coloraxis": {
           "colorbar": {
            "outlinewidth": 0,
            "ticks": ""
           }
          },
          "colorscale": {
           "diverging": [
            [
             0,
             "#8e0152"
            ],
            [
             0.1,
             "#c51b7d"
            ],
            [
             0.2,
             "#de77ae"
            ],
            [
             0.3,
             "#f1b6da"
            ],
            [
             0.4,
             "#fde0ef"
            ],
            [
             0.5,
             "#f7f7f7"
            ],
            [
             0.6,
             "#e6f5d0"
            ],
            [
             0.7,
             "#b8e186"
            ],
            [
             0.8,
             "#7fbc41"
            ],
            [
             0.9,
             "#4d9221"
            ],
            [
             1,
             "#276419"
            ]
           ],
           "sequential": [
            [
             0,
             "#0d0887"
            ],
            [
             0.1111111111111111,
             "#46039f"
            ],
            [
             0.2222222222222222,
             "#7201a8"
            ],
            [
             0.3333333333333333,
             "#9c179e"
            ],
            [
             0.4444444444444444,
             "#bd3786"
            ],
            [
             0.5555555555555556,
             "#d8576b"
            ],
            [
             0.6666666666666666,
             "#ed7953"
            ],
            [
             0.7777777777777778,
             "#fb9f3a"
            ],
            [
             0.8888888888888888,
             "#fdca26"
            ],
            [
             1,
             "#f0f921"
            ]
           ],
           "sequentialminus": [
            [
             0,
             "#0d0887"
            ],
            [
             0.1111111111111111,
             "#46039f"
            ],
            [
             0.2222222222222222,
             "#7201a8"
            ],
            [
             0.3333333333333333,
             "#9c179e"
            ],
            [
             0.4444444444444444,
             "#bd3786"
            ],
            [
             0.5555555555555556,
             "#d8576b"
            ],
            [
             0.6666666666666666,
             "#ed7953"
            ],
            [
             0.7777777777777778,
             "#fb9f3a"
            ],
            [
             0.8888888888888888,
             "#fdca26"
            ],
            [
             1,
             "#f0f921"
            ]
           ]
          },
          "colorway": [
           "#636efa",
           "#EF553B",
           "#00cc96",
           "#ab63fa",
           "#FFA15A",
           "#19d3f3",
           "#FF6692",
           "#B6E880",
           "#FF97FF",
           "#FECB52"
          ],
          "font": {
           "color": "#2a3f5f"
          },
          "geo": {
           "bgcolor": "white",
           "lakecolor": "white",
           "landcolor": "#E5ECF6",
           "showlakes": true,
           "showland": true,
           "subunitcolor": "white"
          },
          "hoverlabel": {
           "align": "left"
          },
          "hovermode": "closest",
          "mapbox": {
           "style": "light"
          },
          "paper_bgcolor": "white",
          "plot_bgcolor": "#E5ECF6",
          "polar": {
           "angularaxis": {
            "gridcolor": "white",
            "linecolor": "white",
            "ticks": ""
           },
           "bgcolor": "#E5ECF6",
           "radialaxis": {
            "gridcolor": "white",
            "linecolor": "white",
            "ticks": ""
           }
          },
          "scene": {
           "xaxis": {
            "backgroundcolor": "#E5ECF6",
            "gridcolor": "white",
            "gridwidth": 2,
            "linecolor": "white",
            "showbackground": true,
            "ticks": "",
            "zerolinecolor": "white"
           },
           "yaxis": {
            "backgroundcolor": "#E5ECF6",
            "gridcolor": "white",
            "gridwidth": 2,
            "linecolor": "white",
            "showbackground": true,
            "ticks": "",
            "zerolinecolor": "white"
           },
           "zaxis": {
            "backgroundcolor": "#E5ECF6",
            "gridcolor": "white",
            "gridwidth": 2,
            "linecolor": "white",
            "showbackground": true,
            "ticks": "",
            "zerolinecolor": "white"
           }
          },
          "shapedefaults": {
           "line": {
            "color": "#2a3f5f"
           }
          },
          "ternary": {
           "aaxis": {
            "gridcolor": "white",
            "linecolor": "white",
            "ticks": ""
           },
           "baxis": {
            "gridcolor": "white",
            "linecolor": "white",
            "ticks": ""
           },
           "bgcolor": "#E5ECF6",
           "caxis": {
            "gridcolor": "white",
            "linecolor": "white",
            "ticks": ""
           }
          },
          "title": {
           "x": 0.05
          },
          "xaxis": {
           "automargin": true,
           "gridcolor": "white",
           "linecolor": "white",
           "ticks": "",
           "title": {
            "standoff": 15
           },
           "zerolinecolor": "white",
           "zerolinewidth": 2
          },
          "yaxis": {
           "automargin": true,
           "gridcolor": "white",
           "linecolor": "white",
           "ticks": "",
           "title": {
            "standoff": 15
           },
           "zerolinecolor": "white",
           "zerolinewidth": 2
          }
         }
        },
        "title": {
         "text": "各类别冲突伪冲突解决情况"
        },
        "width": 1000,
        "xaxis": {
         "tickfont": {
          "size": 14
         }
        },
        "yaxis": {
         "tickfont": {
          "size": 14
         },
         "title": {
          "font": {
           "size": 16
          },
          "text": "冲突数量"
         }
        }
       }
      }
     },
     "metadata": {},
     "output_type": "display_data"
    }
   ],
   "source": [
    "# 使用 plotly 绘制条形图，横坐标是各个类型，\n",
    "# 纵坐标高度由三部分组成：灰色表示总数减去给出建议的部分，绿色部分表示正确的部分、蓝色表示给出建议但不正确的部分\n",
    "\n",
    "import plotly.graph_objects as go\n",
    "\n",
    "fig = go.Figure()\n",
    "fig.add_trace(go.Bar(\n",
    "    x=list(kind_counter.keys()),\n",
    "    y=[kind_counter[k] * correct_rate[k] / 100 for k in kind_counter.keys()],\n",
    "    name='correct',\n",
    "    marker_color='green',\n",
    "    customdata=[round(correct_rate[k], 1) for k in kind_counter.keys()],\n",
    "    texttemplate=\"%{customdata}%\",\n",
    "))\n",
    "fig.add_trace(go.Bar(\n",
    "    x=list(kind_counter.keys()),\n",
    "    y=[kind_counter[k] * (suggestion_given_rate[k] - correct_rate[k]) / 100 for k in kind_counter.keys()],\n",
    "    name='incorrect',\n",
    "    marker_color='rgb(52,130,198)',\n",
    "))\n",
    "fig.add_trace(go.Bar(\n",
    "    x=list(kind_counter.keys()),\n",
    "    y=list([kind_counter[k] * (100 - suggestion_given_rate[k]) / 100 for k in kind_counter.keys()]),\n",
    "    name='total',\n",
    "    marker_color='#aaa'\n",
    "))\n",
    "\n",
    "fig.update_layout(\n",
    "    title='各类别冲突伪冲突解决情况',\n",
    "    xaxis_tickfont_size=14,\n",
    "    width=1000,\n",
    "    yaxis=dict(\n",
    "        title='冲突数量',\n",
    "        titlefont_size=16,\n",
    "        tickfont_size=14,\n",
    "    ),\n",
    "    legend=dict(\n",
    "        x=0.8,\n",
    "        y=1.0,\n",
    "        bgcolor='rgba(255, 255, 255, 0)',\n",
    "        bordercolor='rgba(255, 255, 255, 0)'\n",
    "    ),\n",
    "    barmode='stack',\n",
    "    bargap=0.15,\n",
    "    bargroupgap=0.1\n",
    ")\n",
    "\n",
    "fig.show()"
   ]
  }
 ],
 "metadata": {
  "kernelspec": {
   "display_name": "dev38",
   "language": "python",
   "name": "python3"
  },
  "language_info": {
   "codemirror_mode": {
    "name": "ipython",
    "version": 3
   },
   "file_extension": ".py",
   "mimetype": "text/x-python",
   "name": "python",
   "nbconvert_exporter": "python",
   "pygments_lexer": "ipython3",
   "version": "3.8.13"
  }
 },
 "nbformat": 4,
 "nbformat_minor": 2
}
