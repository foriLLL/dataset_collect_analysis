{
 "cells": [
  {
   "cell_type": "markdown",
   "metadata": {},
   "source": [
    "# 分析仓库类型分布\n",
    "\n",
    "尝试过滤一些分布特别不均匀的  \n",
    "以及冲突很特殊的"
   ]
  },
  {
   "cell_type": "code",
   "execution_count": 1,
   "metadata": {},
   "outputs": [
    {
     "name": "stdout",
     "output_type": "stream",
     "text": [
      "/Users/foril/projects/conflict_resolve/数据集收集_分析_script/data_collect_analysis\n",
      "/Users/foril/projects/conflict_resolve/数据集收集_分析_script\n"
     ]
    }
   ],
   "source": [
    "# 打印当前工作目录\n",
    "import os\n",
    "print(os.getcwd())\n",
    "# 修改工作目录为上一级\n",
    "os.chdir('../')\n",
    "print(os.getcwd())"
   ]
  },
  {
   "cell_type": "code",
   "execution_count": 2,
   "metadata": {},
   "outputs": [
    {
     "name": "stdout",
     "output_type": "stream",
     "text": [
      "/Users/foril/projects/conflict_resolve/数据集收集_分析_script\n"
     ]
    }
   ],
   "source": [
    "from collections import defaultdict\n",
    "import re\n",
    "import os\n",
    "import json\n",
    "from util.conflict_util import Conflict, conflict2file\n",
    "from tqdm import tqdm\n",
    "from pathlib import Path\n",
    "from util.edit_script import compute\n",
    "\n",
    "work_dir = Path(os.getcwd())\n",
    "print(work_dir)\n",
    "repo_dir = work_dir / \"data\" / \"2000+repos\" / \"conflictFiles\""
   ]
  },
  {
   "cell_type": "code",
   "execution_count": null,
   "metadata": {},
   "outputs": [],
   "source": [
    "# for all repos in the repo_dir, analysis the "
   ]
  }
 ],
 "metadata": {
  "kernelspec": {
   "display_name": "_venv",
   "language": "python",
   "name": "python3"
  },
  "language_info": {
   "codemirror_mode": {
    "name": "ipython",
    "version": 3
   },
   "file_extension": ".py",
   "mimetype": "text/x-python",
   "name": "python",
   "nbconvert_exporter": "python",
   "pygments_lexer": "ipython3",
   "version": "3.11.4"
  }
 },
 "nbformat": 4,
 "nbformat_minor": 2
}
