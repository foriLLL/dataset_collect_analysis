{
 "cells": [
  {
   "cell_type": "markdown",
   "metadata": {},
   "source": [
    "## 收集数据"
   ]
  },
  {
   "cell_type": "code",
   "execution_count": 5,
   "metadata": {},
   "outputs": [
    {
     "name": "stdout",
     "output_type": "stream",
     "text": [
      "/Users/foril/projects/conflict_resolve/my_work/dataset_collect_analysis_script\n"
     ]
    }
   ],
   "source": [
    "from IPython import get_ipython\n",
    "import os\n",
    "from pathlib import Path\n",
    "script_dir = get_ipython().starting_dir\n",
    "# 修改工作目录为上一级\n",
    "os.chdir(Path(script_dir) / '..')\n",
    "print(os.getcwd())\n",
    "from collections import defaultdict\n",
    "import json\n",
    "from util.conflict_util import Conflict, conflict2file\n",
    "from tqdm import tqdm\n",
    "from util.edit_script import compute\n",
    "work_dir = Path(os.getcwd())"
   ]
  },
  {
   "cell_type": "markdown",
   "metadata": {},
   "source": [
    "统一将数据格式化为 conflictMap\n",
    "```json\n",
    "{\n",
    "    \"path\": , // 文件相对路径\n",
    "    \"repo_url\": , // 仓库地址\n",
    "    \"file_a_content\": , // 文件 A 内容\n",
    "    \"file_b_content\": , // 文件 B 内容\n",
    "    \"file_o_content\": , // 文件 base 内容\n",
    "    \"file_r_content\": , // 文件 Resolved 内容\n",
    "    \"file_m_content\": , // 文件 Merged 内容\n",
    "    \"commitHash\": ,     // commit hash\n",
    "    \"conflict_chunks\": [\n",
    "        {\n",
    "            \"m_start\": , // merge 起始行\n",
    "            \"m_end\": , // merge 结束行\n",
    "            \"a_content\": , // A 内容\n",
    "            \"b_content\": , // B 内容\n",
    "            \"o_content\": , // base 内容\n",
    "            \"r_content\": , // resolved 内容\n",
    "            \"label\": , // conflict 类型\n",
    "            \"chunk_idx\": , // chunk 在文件中是第几个 chunk     // 有可能有的 chunk 没有 resolutioin\n",
    "        }\n",
    "    ]\n",
    "    \n",
    "}\n",
    "```"
   ]
  },
  {
   "cell_type": "code",
   "execution_count": null,
   "metadata": {},
   "outputs": [],
   "source": [
    "import re\n",
    "\n",
    "class ConflictChunk:\n",
    "    def __init__(self, m_start, m_end, a_content, b_content, \n",
    "                 o_content, r_content, label: str | None, chunk_idx):\n",
    "        self.m_start = m_start\n",
    "        self.m_end = m_end\n",
    "        self.a_content = a_content\n",
    "        self.b_content = b_content\n",
    "        self.o_content = o_content\n",
    "        self.r_content = r_content\n",
    "        self.label = label\n",
    "        self.chunk_idx = chunk_idx\n",
    "\n",
    "    def to_dict(self):\n",
    "        return {\n",
    "            \"m_start\": self.m_start,\n",
    "            \"m_end\": self.m_end,\n",
    "            \"a_content\": self.a_content,\n",
    "            \"b_content\": self.b_content,\n",
    "            \"o_content\": self.o_content,\n",
    "            \"r_content\": self.r_content,\n",
    "            \"label\": self.label,\n",
    "        }\n",
    "    \n",
    "    def getJSONstr(self):\n",
    "        return json.dumps(self, default=lambda o: o.__dict__, indent=4)\n",
    "\n",
    "\n",
    "class ConflictFile:\n",
    "    def __init__(self, path, repo_url, file_a_content, file_b_content, file_o_content, file_r_content, file_m_content, commit_hash):\n",
    "        self.path = path\n",
    "        self.repo_url = repo_url\n",
    "        self.file_a_content = file_a_content\n",
    "        self.file_b_content = file_b_content\n",
    "        self.file_o_content = file_o_content\n",
    "        self.file_r_content = file_r_content\n",
    "        self.file_m_content = file_m_content\n",
    "        self.commit_hash = commit_hash\n",
    "        self.conflict_chunks = []\n",
    "\n",
    "    def add_conflict_chunk(self, conflict_chunk_obj):\n",
    "        self.conflict_chunks.append(conflict_chunk_obj)\n",
    "\n",
    "    def to_dict(self):\n",
    "        return {\n",
    "            \"path\": self.path,\n",
    "            \"repo_url\": self.repo_url,\n",
    "            \"file_a_content\": self.file_a_content,\n",
    "            \"file_b_content\": self.file_b_content,\n",
    "            \"file_o_content\": self.file_o_content,\n",
    "            \"file_r_content\": self.file_r_content,\n",
    "            \"file_m_content\": self.file_m_content,\n",
    "            \"conflict_chunks\": [chunk.to_dict() for chunk in self.conflict_chunks],\n",
    "        }\n",
    "    \n",
    "    def getJSONstr(self):\n",
    "        return json.dumps(self, default=lambda o: o.__dict__, indent=4)\n",
    "    \n",
    "class ConflictFileCollector:\n",
    "    def __init__(self, dataset_path):\n",
    "        self.dataset_path = dataset_path\n",
    "    \n",
    "    def collect(self):\n",
    "        raise NotImplementedError\n",
    "    \n",
    "    @staticmethod\n",
    "    def preprocessContent(content: str):\n",
    "        return '' if content.strip() == '' else re.sub(r'\\s+', ' ', content.strip() + '\\n')\n",
    "    \n",
    "    @staticmethod\n",
    "    def getLabel(a, b, o, r):\n",
    "        r_processed = ConflictFileCollector.preprocessContent(r)\n",
    "        a_processed = ConflictFileCollector.preprocessContent(a)\n",
    "        b_processed = ConflictFileCollector.preprocessContent(b)\n",
    "        o_processed = ConflictFileCollector.preprocessContent(o)\n",
    "        if a_processed == b_processed:\n",
    "            return \"same modification, formatting maybe different\"\n",
    "        if r_processed == a_processed:\n",
    "            return \"A\"\n",
    "        if r_processed == b_processed:\n",
    "            return \"B\"\n",
    "        if r_processed == o_processed:\n",
    "            return \"O\"\n",
    "        if r_processed == a_processed + b_processed:\n",
    "            return \"AB\"\n",
    "        if r_processed == b_processed + a_processed:\n",
    "            return \"BA\"\n",
    "\n",
    "        r_lines = set(r.split('\\n'))\n",
    "        a_lines = set(a.split('\\n'))\n",
    "        b_lines = set(b.split('\\n'))\n",
    "        o_lines = set(o.split('\\n'))\n",
    "        for rl in r_lines:\n",
    "            if (rl not in a_lines) and (rl not in b_lines) and (rl not in o_lines) and not rl.isspace():\n",
    "                return 'newline'\n",
    "        return 'mixline'\n",
    "\n",
    "    @staticmethod\n",
    "    def getAllJsonsUnder(dirPath: str):\n",
    "        for root, _, files in os.walk(dirPath):\n",
    "            for file in files:\n",
    "                if(file.endswith(\".json\")):\n",
    "                    yield os.path.join(root, file)\n"
   ]
  },
  {
   "cell_type": "code",
   "execution_count": null,
   "metadata": {},
   "outputs": [],
   "source": [
    "data_dir = work_dir / \"data\" / \"100+stars_4GB-_multidev_org_lang\"\n",
    "output_file = work_dir / \"output\" / \"100+stars_4GB-_multidev_org_lang.csv.json\"\n",
    "\n",
    "class GraphQLFilteredRepoCollector(ConflictFileCollector):\n",
    "    '''\n",
    "    100+ stars, non_fork, 10+devs, org, 4GB- repos on GitHub\n",
    "    '''\n",
    "    def __init__(self, dataset_path):\n",
    "        super().__init__(dataset_path)\n",
    "    \n",
    "    def collect(self):\n",
    "        # 1. 获取所有 json 文件名 /xxx/conflictFiles/hash/conflictFilesMetadata.json\n",
    "        # 3. 读取 json 文件，构造 ConflictFile 对象\n",
    "        ret = []\n",
    "\n",
    "        metadata_jsonPaths = [path for path in self.getAllJsonsUnder(self.dataset_path)]\n",
    "        if len(metadata_jsonPaths) == 0:\n",
    "            raise FileNotFoundError(\"No metadata json files found in the dataset path\")\n",
    "        for jsonPath in tqdm(metadata_jsonPaths):\n",
    "            # 提取路径\n",
    "            basename = os.path.basename(jsonPath)\n",
    "            if basename != 'conflictFilesMetadata.json':\n",
    "                raise ValueError(\"conflictFilesMetadata.json file name error\")\n",
    "            dirname = os.path.dirname(jsonPath)\n",
    "\n",
    "            # jsonData\n",
    "            with open(jsonPath, 'r') as f:      # 好多数据都没收集\n",
    "                metadata = json.load(f)\n",
    "                repo_url = None                 # 还真没记录 repo_url 或者 author/repoName，只记录 repoName 了\n",
    "                path = metadata['filePath']\n",
    "                suffix = path.split('.')[-1]\n",
    "                conflictChunks = metadata['conflictChunks']\n",
    "                commit_hash = metadata['resolvedCommitHash']\n",
    "\n",
    "                a_content = '\\n'.join(metadata['oursContent'])          # 不需要在最后 + '\\n'，收集数据集是用的是 String.split('\\n', -1) -1 代表尽量分割，所以 join 后不需要再加换行符\n",
    "                b_content = '\\n'.join(metadata['theirsContent'])\n",
    "                base_content = '\\n'.join(metadata['baseContent'])\n",
    "                merged_content = '\\n'.join(metadata['mergedContent'])\n",
    "                \n",
    "            \n",
    "            # 构造 ConflictFile 对象\n",
    "            conflict_file = ConflictFile(path, repo_url, a_content, b_content, base_content, merged_content, base_content, commit_hash)\n",
    "            for chunk in conflictChunks:\n",
    "                if 'resolution' not in chunk or chunk['resolution'] == None:                          # gitMergeScenario 中 DeepMergeAligner 没有找到 resolution\n",
    "                    continue\n",
    "                # m_start, m_end 和 chunk_idx 不太好拿，先忽略\n",
    "                # 最后得加 \\n，因为 DeepMergeAligner 获取 resolution 是从代码行数组中提取出来的行，所以要加上换行符\n",
    "                cc = ConflictChunk(chunk['startLine'], chunk['endLine'], '\\n'.join(chunk['ours']) + '\\n', '\\n'.join(chunk['theirs']) + '\\n', \n",
    "                                    '\\n'.join(chunk['base']) + '\\n', chunk['resolution'], None, None)\n",
    "                cc.label = self.getLabel(cc.a_content, cc.b_content, cc.o_content, cc.r_content)\n",
    "                conflict_file.add_conflict_chunk(cc)\n",
    "            ret.append(conflict_file)\n",
    "        return ret\n",
    "    \n",
    "\n",
    "collector = GraphQLFilteredRepoCollector(data_dir)\n",
    "conflict_files = collector.collect()\n",
    "print(\"Total conflict files: \", len(conflict_files))"
   ]
  },
  {
   "cell_type": "code",
   "execution_count": 9,
   "metadata": {},
   "outputs": [
    {
     "name": "stderr",
     "output_type": "stream",
     "text": [
      "100%|██████████| 103013/103013 [02:01<00:00, 847.65it/s] \n"
     ]
    },
    {
     "name": "stdout",
     "output_type": "stream",
     "text": [
      "Total conflict files:  102695\n"
     ]
    }
   ],
   "source": [
    "data_dir = work_dir / \"data\" / \"2000repos\"\n",
    "output_file = work_dir / \"output\" / \"2000repos.json\"\n",
    "\n",
    "class MergeNatureRepoCollector(ConflictFileCollector):\n",
    "    '''\n",
    "    2000 repos 数据集转化为 conflictMap\n",
    "    '''\n",
    "    def __init__(self, dataset_path):\n",
    "        super().__init__(dataset_path)\n",
    "    \n",
    "    def collect(self):\n",
    "        # 1. 获取所有 json 文件名 /xxx/repo_name/hash/relativePath/filename/metadata.json\n",
    "        # 2. 提取对应目录下的 ours.xxx theirs.xxx base.xxx conflict.xxx resolve.xxx\n",
    "        # 3. 读取 metadata.json, 获取 repo_url, path 以及 conflict chunks\n",
    "        ret = []\n",
    "\n",
    "        metadata_jsonPaths = [path for path in self.getAllJsonsUnder(self.dataset_path)]\n",
    "        if len(metadata_jsonPaths) == 0:\n",
    "            raise FileNotFoundError(\"No metadata json files found in the dataset path\")\n",
    "        for jsonPath in tqdm(metadata_jsonPaths):\n",
    "            # 提取路径\n",
    "            basename = os.path.basename(jsonPath)\n",
    "            if basename != 'metadata.json':\n",
    "                raise ValueError(\"metadata.json file name error\")\n",
    "            dirname = os.path.dirname(jsonPath)\n",
    "\n",
    "            relativePath = os.sep.join(str(jsonPath)[len(str(data_dir)):].split(os.sep)[3:-1])\n",
    "\n",
    "            # jsonData\n",
    "            with open(jsonPath, 'r') as f:      # 好多数据都没收集\n",
    "                metadata = json.load(f)\n",
    "                repo_url = None\n",
    "                path = relativePath\n",
    "                suffix = metadata['filetype']\n",
    "                conflict_chunks = metadata['conflicting_chunks']\n",
    "                commit_hash = metadata['commitID']\n",
    "            \n",
    "            # 读取 a, b, base, merged, resolved\n",
    "            a_path = os.path.join(dirname, 'ours' + suffix)\n",
    "            b_path = os.path.join(dirname, 'theirs' + suffix)\n",
    "            base_path = os.path.join(dirname, 'base' + suffix)\n",
    "            merged_path = os.path.join(dirname, 'conflict' + suffix)\n",
    "\n",
    "            # 读取文件内容\n",
    "            try:\n",
    "                with open(a_path, 'r') as f:\n",
    "                    a_content = f.read()\n",
    "                with open(b_path, 'r') as f:\n",
    "                    b_content = f.read()\n",
    "                with open (base_path, 'r') as f:\n",
    "                    base_content = f.read()\n",
    "                with open (merged_path, 'r') as f:\n",
    "                    merged_content = f.read()\n",
    "            except Exception as e:\n",
    "                # 有的文件不存在，直接跳过\n",
    "                # print(jsonPath)\n",
    "                # print(e)\n",
    "                continue\n",
    "            \n",
    "            # 构造 ConflictFile 对象\n",
    "            conflict_file = ConflictFile(path, repo_url, a_content, b_content, base_content, merged_content, base_content, commit_hash)\n",
    "            for chunk in conflict_chunks:\n",
    "                if 'resolve' not in chunk or chunk['resolve'] == None:\n",
    "                    continue\n",
    "                # m_start, m_end 和 chunk_idx 不太好拿，先忽略\n",
    "                cc = ConflictChunk(-1, -1, chunk['a_contents'], chunk['b_contents'], \n",
    "                                    chunk['base_contents'], chunk['resolve'], None, None)\n",
    "                cc.label = self.getLabel(cc.a_content, cc.b_content, cc.o_content, cc.r_content)\n",
    "                conflict_file.add_conflict_chunk(cc)\n",
    "            ret.append(conflict_file)\n",
    "        return ret\n",
    "    \n",
    "\n",
    "collector = MergeNatureRepoCollector(data_dir)\n",
    "conflict_files = collector.collect()\n",
    "print(\"Total conflict files: \", len(conflict_files))"
   ]
  },
  {
   "cell_type": "code",
   "execution_count": null,
   "metadata": {},
   "outputs": [],
   "source": [
    "data_dir = work_dir / \"data\" / \"top50\"\n",
    "output_file = work_dir / \"output\" / \"top50_2000repos.json\"\n",
    "\n",
    "class MergeNatureRepoTop50Collector(ConflictFileCollector):\n",
    "    '''\n",
    "    top50/2000 repos 数据集转化为 conflictMap\n",
    "    '''\n",
    "    def __init__(self, dataset_path):\n",
    "        super().__init__(dataset_path)\n",
    "    \n",
    "    def collect(self):\n",
    "        # 1. 获取所有 json 文件名 /.../repo_name/12345_a.java\n",
    "        #    提取最后的 12345\n",
    "        # 2. 获取对应的 12345_a.xxx, 12345_b.xxx, 12345_base.xxx, 12345_merged.xxx, 12345_resolved.xxx\n",
    "        # 3. 读取 metadata.json, 获取 repo_url, path 以及 conflict chunks\n",
    "        ret = []\n",
    "\n",
    "        metadata_jsonPaths = [path for path in self.getAllJsonsUnder(self.dataset_path)]\n",
    "        if len(metadata_jsonPaths) == 0:\n",
    "            raise FileNotFoundError(\"No metadata json files found in the dataset path\")\n",
    "        for jsonPath in tqdm(metadata_jsonPaths):\n",
    "            # 提取路径\n",
    "            basename = os.path.basename(jsonPath)\n",
    "            dirname = os.path.dirname(jsonPath)\n",
    "\n",
    "            # jsonData\n",
    "            with open(jsonPath, 'r') as f:      # 好多数据都没收集\n",
    "                metadata = json.load(f)\n",
    "                repo_url = None\n",
    "                path = None\n",
    "                suffix = metadata['filetype']\n",
    "                conflict_chunks = metadata['conflicting_chunks']\n",
    "                commit_hash = None\n",
    "            \n",
    "            # 读取 a, b, base, merged, resolved\n",
    "            a_path = os.path.join(dirname, basename.replace('_metadata.json', '_a' + suffix))\n",
    "            b_path = os.path.join(dirname, basename.replace('_metadata.json', '_b' + suffix))\n",
    "            base_path = os.path.join(dirname, basename.replace('_metadata.json', '_base' + suffix))\n",
    "            merged_path = os.path.join(dirname, basename.replace('_metadata.json', '_merged' + suffix))\n",
    "\n",
    "            # 读取文件内容\n",
    "            try:\n",
    "                with open(a_path, 'r') as f:\n",
    "                    a_content = f.read()\n",
    "                with open(b_path, 'r') as f:\n",
    "                    b_content = f.read()\n",
    "                with open (base_path, 'r') as f:\n",
    "                    base_content = f.read()\n",
    "                with open (merged_path, 'r') as f:\n",
    "                    merged_content = f.read()\n",
    "            except Exception as e:\n",
    "                print(jsonPath)\n",
    "                print(e)\n",
    "                continue\n",
    "            \n",
    "            # 构造 ConflictFile 对象\n",
    "            conflict_file = ConflictFile(path, repo_url, a_content, b_content, base_content, merged_content, base_content, commit_hash)\n",
    "            for chunk in conflict_chunks:\n",
    "                if 'resolve' not in chunk or chunk['resolve'] == None:\n",
    "                    continue\n",
    "                # m_start, m_end 和 chunk_idx 不太好拿，先忽略\n",
    "                cc = ConflictChunk(-1, -1, chunk['a_contents'], chunk['b_contents'], \n",
    "                                    chunk['base_contents'], chunk['resolve'], None, None)\n",
    "                cc.label = self.getLabel(cc.a_content, cc.b_content, cc.o_content, cc.r_content)\n",
    "                conflict_file.add_conflict_chunk(cc)\n",
    "            ret.append(conflict_file)\n",
    "        return ret\n",
    "    \n",
    "\n",
    "collector = MergeNatureRepoTop50Collector(data_dir)\n",
    "conflict_files = collector.collect()\n",
    "print(\"Total conflict files: \", len(conflict_files))"
   ]
  },
  {
   "cell_type": "code",
   "execution_count": 3,
   "metadata": {},
   "outputs": [
    {
     "name": "stderr",
     "output_type": "stream",
     "text": [
      "100%|██████████| 48785/48785 [01:17<00:00, 628.50it/s]"
     ]
    },
    {
     "name": "stdout",
     "output_type": "stream",
     "text": [
      "Total chunk count: 193870, chunk without r: 42444\n",
      "Total conflict files:  48785\n"
     ]
    },
    {
     "name": "stderr",
     "output_type": "stream",
     "text": [
      "\n"
     ]
    }
   ],
   "source": [
    "# data_dir = work_dir / \"data\" / \"mergebert_data\" / \"automated-analysis-data\" / \"TypeScript\"\n",
    "# output_file = work_dir / \"output\" / \"mergebert_ts.json\"\n",
    "\n",
    "data_dir = work_dir / \"data\" / \"mergebert_data\" / \"automated-analysis-data\"\n",
    "output_file = work_dir / \"output\" / \"mergebert_all_lang.json\"\n",
    "\n",
    "class MergeBERTConflictFileCollector(ConflictFileCollector):\n",
    "    '''\n",
    "    MergeBERT 数据集转化为 conflictMap\n",
    "    '''\n",
    "    def __init__(self, dataset_path):\n",
    "        super().__init__(dataset_path)\n",
    "    \n",
    "    def collect(self):\n",
    "       # 1. 获取所有 json 文件名，如 /Users/foril/projects/conflict_resolve/my_work/dataset_collect_analysis_script/data/mergebert_data/automated-analysis-data/TypeScript/55743_metadata.json,\n",
    "        #    提取最后的 12345\n",
    "        # 2. 获取对应的 12345_a.xxx, 12345_b.xxx, 12345_base.xxx, 12345_merged.xxx, 12345_resolved.xxx\n",
    "        # 3. 读取 metadata.json, 获取 repo_url, path 以及 conflict chunks\n",
    "        chunk_cnt = 0\n",
    "        chunk_no_r_cnt = 0\n",
    "        ret = []\n",
    "\n",
    "        metadata_jsonPaths = [path for path in self.getAllJsonsUnder(self.dataset_path)]\n",
    "        if len(metadata_jsonPaths) == 0:\n",
    "            raise FileNotFoundError(\"No metadata json files found in the dataset path\")\n",
    "        for jsonPath in tqdm(metadata_jsonPaths):\n",
    "            # 提取路径\n",
    "            basename = os.path.basename(jsonPath)\n",
    "            dirname = os.path.dirname(jsonPath)\n",
    "\n",
    "            # jsonData\n",
    "            with open(jsonPath, 'r') as f:\n",
    "                metadata = json.load(f)\n",
    "                repo_url = metadata['repo']\n",
    "                path = metadata['fname']\n",
    "                suffix = path.split('.')[-1]\n",
    "                conflict_chunks = metadata['conflicting_chunks']\n",
    "                commit_hash = metadata['commitHash']\n",
    "            \n",
    "            # 读取 a, b, base, merged, resolved\n",
    "            a_path = os.path.join(dirname, basename.replace('_metadata.json', '_a.' + suffix))\n",
    "            b_path = os.path.join(dirname, basename.replace('_metadata.json', '_b.' + suffix))\n",
    "            base_path = os.path.join(dirname, basename.replace('_metadata.json', '_base.' + suffix))\n",
    "            merged_path = os.path.join(dirname, basename.replace('_metadata.json', '_merged.' + suffix))\n",
    "\n",
    "            # 读取文件内容\n",
    "            with open(a_path, 'r') as f:\n",
    "                a_content = f.read()\n",
    "            with open(b_path, 'r') as f:\n",
    "                b_content = f.read()\n",
    "            with open (base_path, 'r') as f:\n",
    "                base_content = f.read()\n",
    "            with open (merged_path, 'r') as f:\n",
    "                merged_content = f.read()\n",
    "            \n",
    "            # 构造 ConflictFile 对象\n",
    "            conflict_file = ConflictFile(path, repo_url, a_content, b_content, base_content, merged_content, base_content, commit_hash)\n",
    "            for chunk in conflict_chunks:\n",
    "                chunk_cnt += 1\n",
    "                if chunk['res_region'] == None:\n",
    "                    chunk_no_r_cnt += 1\n",
    "                    continue\n",
    "                # m_start, m_end 和 chunk_idx 不太好拿，对 MergeBERT 数据集好像也不是很重要，先忽略吧\n",
    "                cc = ConflictChunk(-1, -1, chunk['a_contents'], chunk['b_contents'], \n",
    "                                    chunk['base_contents'], chunk['res_region'], None, None)\n",
    "                cc.mergebert_label = chunk.get('label', None) # type: ignore\n",
    "                    # 'A',\n",
    "                    #  'AB',\n",
    "                    #  'B',\n",
    "                    #  'BA',\n",
    "                    #  'BASE',\n",
    "                    #  None,\n",
    "                    #  'OTHER',\n",
    "                    #  'REM-BASE-A',\n",
    "                    #  'REM-BASE-AB',\n",
    "                    #  'REM-BASE-B',\n",
    "                    #  'REM-BASE-BA',\n",
    "                    #  'RES_EMPTY',\n",
    "                    #  'RES_FILE_EMPTY'\n",
    "                \n",
    "                cc.label = self.getLabel(cc.a_content, cc.b_content, cc.o_content, cc.r_content)\n",
    "\n",
    "                conflict_file.add_conflict_chunk(cc)\n",
    "            ret.append(conflict_file)\n",
    "        print(f\"Total chunk count: {chunk_cnt}, chunk without r: {chunk_no_r_cnt}\")\n",
    "        return ret \n",
    "\n",
    "collector = MergeBERTConflictFileCollector(data_dir)\n",
    "conflict_files = collector.collect()\n",
    "print(\"Total conflict files: \", len(conflict_files))"
   ]
  },
  {
   "cell_type": "code",
   "execution_count": null,
   "metadata": {},
   "outputs": [
    {
     "ename": "KeyboardInterrupt",
     "evalue": "",
     "output_type": "error",
     "traceback": [
      "\u001b[0;31m---------------------------------------------------------------------------\u001b[0m",
      "\u001b[0;31mKeyboardInterrupt\u001b[0m                         Traceback (most recent call last)",
      "Cell \u001b[0;32mIn[11], line 3\u001b[0m\n\u001b[1;32m      1\u001b[0m \u001b[38;5;66;03m# 保存结果\u001b[39;00m\n\u001b[1;32m      2\u001b[0m \u001b[38;5;28;01mwith\u001b[39;00m \u001b[38;5;28mopen\u001b[39m(output_file, \u001b[38;5;124m\"\u001b[39m\u001b[38;5;124mw\u001b[39m\u001b[38;5;124m\"\u001b[39m) \u001b[38;5;28;01mas\u001b[39;00m f:\n\u001b[0;32m----> 3\u001b[0m     \u001b[43mjson\u001b[49m\u001b[38;5;241;43m.\u001b[39;49m\u001b[43mdump\u001b[49m\u001b[43m(\u001b[49m\u001b[43m[\u001b[49m\u001b[43mjson\u001b[49m\u001b[38;5;241;43m.\u001b[39;49m\u001b[43mloads\u001b[49m\u001b[43m(\u001b[49m\u001b[43mx\u001b[49m\u001b[38;5;241;43m.\u001b[39;49m\u001b[43mgetJSONstr\u001b[49m\u001b[43m(\u001b[49m\u001b[43m)\u001b[49m\u001b[43m)\u001b[49m\u001b[43m \u001b[49m\u001b[38;5;28;43;01mfor\u001b[39;49;00m\u001b[43m \u001b[49m\u001b[43mx\u001b[49m\u001b[43m \u001b[49m\u001b[38;5;129;43;01min\u001b[39;49;00m\u001b[43m \u001b[49m\u001b[43mconflict_files\u001b[49m\u001b[43m]\u001b[49m\u001b[43m,\u001b[49m\u001b[43m \u001b[49m\u001b[43mf\u001b[49m\u001b[43m)\u001b[49m\n",
      "File \u001b[0;32m~/opt/miniconda3/envs/py311/lib/python3.11/json/__init__.py:179\u001b[0m, in \u001b[0;36mdump\u001b[0;34m(obj, fp, skipkeys, ensure_ascii, check_circular, allow_nan, cls, indent, separators, default, sort_keys, **kw)\u001b[0m\n\u001b[1;32m    173\u001b[0m     iterable \u001b[38;5;241m=\u001b[39m \u001b[38;5;28mcls\u001b[39m(skipkeys\u001b[38;5;241m=\u001b[39mskipkeys, ensure_ascii\u001b[38;5;241m=\u001b[39mensure_ascii,\n\u001b[1;32m    174\u001b[0m         check_circular\u001b[38;5;241m=\u001b[39mcheck_circular, allow_nan\u001b[38;5;241m=\u001b[39mallow_nan, indent\u001b[38;5;241m=\u001b[39mindent,\n\u001b[1;32m    175\u001b[0m         separators\u001b[38;5;241m=\u001b[39mseparators,\n\u001b[1;32m    176\u001b[0m         default\u001b[38;5;241m=\u001b[39mdefault, sort_keys\u001b[38;5;241m=\u001b[39msort_keys, \u001b[38;5;241m*\u001b[39m\u001b[38;5;241m*\u001b[39mkw)\u001b[38;5;241m.\u001b[39miterencode(obj)\n\u001b[1;32m    177\u001b[0m \u001b[38;5;66;03m# could accelerate with writelines in some versions of Python, at\u001b[39;00m\n\u001b[1;32m    178\u001b[0m \u001b[38;5;66;03m# a debuggability cost\u001b[39;00m\n\u001b[0;32m--> 179\u001b[0m \u001b[43m\u001b[49m\u001b[38;5;28;43;01mfor\u001b[39;49;00m\u001b[43m \u001b[49m\u001b[43mchunk\u001b[49m\u001b[43m \u001b[49m\u001b[38;5;129;43;01min\u001b[39;49;00m\u001b[43m \u001b[49m\u001b[43miterable\u001b[49m\u001b[43m:\u001b[49m\n\u001b[1;32m    180\u001b[0m \u001b[43m    \u001b[49m\u001b[43mfp\u001b[49m\u001b[38;5;241;43m.\u001b[39;49m\u001b[43mwrite\u001b[49m\u001b[43m(\u001b[49m\u001b[43mchunk\u001b[49m\u001b[43m)\u001b[49m\n",
      "File \u001b[0;32m~/opt/miniconda3/envs/py311/lib/python3.11/json/encoder.py:430\u001b[0m, in \u001b[0;36m_make_iterencode.<locals>._iterencode\u001b[0;34m(o, _current_indent_level)\u001b[0m\n\u001b[1;32m    428\u001b[0m     \u001b[38;5;28;01myield\u001b[39;00m _floatstr(o)\n\u001b[1;32m    429\u001b[0m \u001b[38;5;28;01melif\u001b[39;00m \u001b[38;5;28misinstance\u001b[39m(o, (\u001b[38;5;28mlist\u001b[39m, \u001b[38;5;28mtuple\u001b[39m)):\n\u001b[0;32m--> 430\u001b[0m     \u001b[38;5;28;01myield from\u001b[39;00m _iterencode_list(o, _current_indent_level)\n\u001b[1;32m    431\u001b[0m \u001b[38;5;28;01melif\u001b[39;00m \u001b[38;5;28misinstance\u001b[39m(o, \u001b[38;5;28mdict\u001b[39m):\n\u001b[1;32m    432\u001b[0m     \u001b[38;5;28;01myield from\u001b[39;00m _iterencode_dict(o, _current_indent_level)\n",
      "File \u001b[0;32m~/opt/miniconda3/envs/py311/lib/python3.11/json/encoder.py:326\u001b[0m, in \u001b[0;36m_make_iterencode.<locals>._iterencode_list\u001b[0;34m(lst, _current_indent_level)\u001b[0m\n\u001b[1;32m    324\u001b[0m         \u001b[38;5;28;01melse\u001b[39;00m:\n\u001b[1;32m    325\u001b[0m             chunks \u001b[38;5;241m=\u001b[39m _iterencode(value, _current_indent_level)\n\u001b[0;32m--> 326\u001b[0m         \u001b[38;5;28;01myield from\u001b[39;00m chunks\n\u001b[1;32m    327\u001b[0m \u001b[38;5;28;01mif\u001b[39;00m newline_indent \u001b[38;5;129;01mis\u001b[39;00m \u001b[38;5;129;01mnot\u001b[39;00m \u001b[38;5;28;01mNone\u001b[39;00m:\n\u001b[1;32m    328\u001b[0m     _current_indent_level \u001b[38;5;241m-\u001b[39m\u001b[38;5;241m=\u001b[39m \u001b[38;5;241m1\u001b[39m\n",
      "File \u001b[0;32m~/opt/miniconda3/envs/py311/lib/python3.11/json/encoder.py:386\u001b[0m, in \u001b[0;36m_make_iterencode.<locals>._iterencode_dict\u001b[0;34m(dct, _current_indent_level)\u001b[0m\n\u001b[1;32m    384\u001b[0m \u001b[38;5;28;01myield\u001b[39;00m _key_separator\n\u001b[1;32m    385\u001b[0m \u001b[38;5;28;01mif\u001b[39;00m \u001b[38;5;28misinstance\u001b[39m(value, \u001b[38;5;28mstr\u001b[39m):\n\u001b[0;32m--> 386\u001b[0m     \u001b[38;5;28;01myield\u001b[39;00m _encoder(value)\n\u001b[1;32m    387\u001b[0m \u001b[38;5;28;01melif\u001b[39;00m value \u001b[38;5;129;01mis\u001b[39;00m \u001b[38;5;28;01mNone\u001b[39;00m:\n\u001b[1;32m    388\u001b[0m     \u001b[38;5;28;01myield\u001b[39;00m \u001b[38;5;124m'\u001b[39m\u001b[38;5;124mnull\u001b[39m\u001b[38;5;124m'\u001b[39m\n",
      "\u001b[0;31mKeyboardInterrupt\u001b[0m: "
     ]
    }
   ],
   "source": [
    "# 不单独存储了，拆分成多个文件对内存友好\n",
    "\n",
    "# with open(output_file, \"w\") as f:\n",
    "#     # 使用 tqdm 包裹列表，显示进度条\n",
    "#     json.dump([json.loads(x.getJSONstr()) for x in tqdm(conflict_files, desc=\"Processing conflict files\")], f)"
   ]
  },
  {
   "cell_type": "markdown",
   "metadata": {},
   "source": [
    "# 分析冲突块的类型分布"
   ]
  },
  {
   "cell_type": "code",
   "execution_count": 10,
   "metadata": {},
   "outputs": [
    {
     "data": {
      "application/vnd.plotly.v1+json": {
       "config": {
        "plotlyServerURL": "https://plot.ly"
       },
       "data": [
        {
         "labels": [
          "A",
          "B",
          "newline",
          "mixline",
          "AB",
          "same modification, formatting maybe different",
          "BA",
          "O"
         ],
         "type": "pie",
         "values": [
          89376,
          52780,
          25166,
          23787,
          5479,
          7107,
          2127,
          695
         ]
        }
       ],
       "layout": {
        "height": 400,
        "template": {
         "data": {
          "bar": [
           {
            "error_x": {
             "color": "#2a3f5f"
            },
            "error_y": {
             "color": "#2a3f5f"
            },
            "marker": {
             "line": {
              "color": "#E5ECF6",
              "width": 0.5
             },
             "pattern": {
              "fillmode": "overlay",
              "size": 10,
              "solidity": 0.2
             }
            },
            "type": "bar"
           }
          ],
          "barpolar": [
           {
            "marker": {
             "line": {
              "color": "#E5ECF6",
              "width": 0.5
             },
             "pattern": {
              "fillmode": "overlay",
              "size": 10,
              "solidity": 0.2
             }
            },
            "type": "barpolar"
           }
          ],
          "carpet": [
           {
            "aaxis": {
             "endlinecolor": "#2a3f5f",
             "gridcolor": "white",
             "linecolor": "white",
             "minorgridcolor": "white",
             "startlinecolor": "#2a3f5f"
            },
            "baxis": {
             "endlinecolor": "#2a3f5f",
             "gridcolor": "white",
             "linecolor": "white",
             "minorgridcolor": "white",
             "startlinecolor": "#2a3f5f"
            },
            "type": "carpet"
           }
          ],
          "choropleth": [
           {
            "colorbar": {
             "outlinewidth": 0,
             "ticks": ""
            },
            "type": "choropleth"
           }
          ],
          "contour": [
           {
            "colorbar": {
             "outlinewidth": 0,
             "ticks": ""
            },
            "colorscale": [
             [
              0,
              "#0d0887"
             ],
             [
              0.1111111111111111,
              "#46039f"
             ],
             [
              0.2222222222222222,
              "#7201a8"
             ],
             [
              0.3333333333333333,
              "#9c179e"
             ],
             [
              0.4444444444444444,
              "#bd3786"
             ],
             [
              0.5555555555555556,
              "#d8576b"
             ],
             [
              0.6666666666666666,
              "#ed7953"
             ],
             [
              0.7777777777777778,
              "#fb9f3a"
             ],
             [
              0.8888888888888888,
              "#fdca26"
             ],
             [
              1,
              "#f0f921"
             ]
            ],
            "type": "contour"
           }
          ],
          "contourcarpet": [
           {
            "colorbar": {
             "outlinewidth": 0,
             "ticks": ""
            },
            "type": "contourcarpet"
           }
          ],
          "heatmap": [
           {
            "colorbar": {
             "outlinewidth": 0,
             "ticks": ""
            },
            "colorscale": [
             [
              0,
              "#0d0887"
             ],
             [
              0.1111111111111111,
              "#46039f"
             ],
             [
              0.2222222222222222,
              "#7201a8"
             ],
             [
              0.3333333333333333,
              "#9c179e"
             ],
             [
              0.4444444444444444,
              "#bd3786"
             ],
             [
              0.5555555555555556,
              "#d8576b"
             ],
             [
              0.6666666666666666,
              "#ed7953"
             ],
             [
              0.7777777777777778,
              "#fb9f3a"
             ],
             [
              0.8888888888888888,
              "#fdca26"
             ],
             [
              1,
              "#f0f921"
             ]
            ],
            "type": "heatmap"
           }
          ],
          "heatmapgl": [
           {
            "colorbar": {
             "outlinewidth": 0,
             "ticks": ""
            },
            "colorscale": [
             [
              0,
              "#0d0887"
             ],
             [
              0.1111111111111111,
              "#46039f"
             ],
             [
              0.2222222222222222,
              "#7201a8"
             ],
             [
              0.3333333333333333,
              "#9c179e"
             ],
             [
              0.4444444444444444,
              "#bd3786"
             ],
             [
              0.5555555555555556,
              "#d8576b"
             ],
             [
              0.6666666666666666,
              "#ed7953"
             ],
             [
              0.7777777777777778,
              "#fb9f3a"
             ],
             [
              0.8888888888888888,
              "#fdca26"
             ],
             [
              1,
              "#f0f921"
             ]
            ],
            "type": "heatmapgl"
           }
          ],
          "histogram": [
           {
            "marker": {
             "pattern": {
              "fillmode": "overlay",
              "size": 10,
              "solidity": 0.2
             }
            },
            "type": "histogram"
           }
          ],
          "histogram2d": [
           {
            "colorbar": {
             "outlinewidth": 0,
             "ticks": ""
            },
            "colorscale": [
             [
              0,
              "#0d0887"
             ],
             [
              0.1111111111111111,
              "#46039f"
             ],
             [
              0.2222222222222222,
              "#7201a8"
             ],
             [
              0.3333333333333333,
              "#9c179e"
             ],
             [
              0.4444444444444444,
              "#bd3786"
             ],
             [
              0.5555555555555556,
              "#d8576b"
             ],
             [
              0.6666666666666666,
              "#ed7953"
             ],
             [
              0.7777777777777778,
              "#fb9f3a"
             ],
             [
              0.8888888888888888,
              "#fdca26"
             ],
             [
              1,
              "#f0f921"
             ]
            ],
            "type": "histogram2d"
           }
          ],
          "histogram2dcontour": [
           {
            "colorbar": {
             "outlinewidth": 0,
             "ticks": ""
            },
            "colorscale": [
             [
              0,
              "#0d0887"
             ],
             [
              0.1111111111111111,
              "#46039f"
             ],
             [
              0.2222222222222222,
              "#7201a8"
             ],
             [
              0.3333333333333333,
              "#9c179e"
             ],
             [
              0.4444444444444444,
              "#bd3786"
             ],
             [
              0.5555555555555556,
              "#d8576b"
             ],
             [
              0.6666666666666666,
              "#ed7953"
             ],
             [
              0.7777777777777778,
              "#fb9f3a"
             ],
             [
              0.8888888888888888,
              "#fdca26"
             ],
             [
              1,
              "#f0f921"
             ]
            ],
            "type": "histogram2dcontour"
           }
          ],
          "mesh3d": [
           {
            "colorbar": {
             "outlinewidth": 0,
             "ticks": ""
            },
            "type": "mesh3d"
           }
          ],
          "parcoords": [
           {
            "line": {
             "colorbar": {
              "outlinewidth": 0,
              "ticks": ""
             }
            },
            "type": "parcoords"
           }
          ],
          "pie": [
           {
            "automargin": true,
            "type": "pie"
           }
          ],
          "scatter": [
           {
            "fillpattern": {
             "fillmode": "overlay",
             "size": 10,
             "solidity": 0.2
            },
            "type": "scatter"
           }
          ],
          "scatter3d": [
           {
            "line": {
             "colorbar": {
              "outlinewidth": 0,
              "ticks": ""
             }
            },
            "marker": {
             "colorbar": {
              "outlinewidth": 0,
              "ticks": ""
             }
            },
            "type": "scatter3d"
           }
          ],
          "scattercarpet": [
           {
            "marker": {
             "colorbar": {
              "outlinewidth": 0,
              "ticks": ""
             }
            },
            "type": "scattercarpet"
           }
          ],
          "scattergeo": [
           {
            "marker": {
             "colorbar": {
              "outlinewidth": 0,
              "ticks": ""
             }
            },
            "type": "scattergeo"
           }
          ],
          "scattergl": [
           {
            "marker": {
             "colorbar": {
              "outlinewidth": 0,
              "ticks": ""
             }
            },
            "type": "scattergl"
           }
          ],
          "scattermapbox": [
           {
            "marker": {
             "colorbar": {
              "outlinewidth": 0,
              "ticks": ""
             }
            },
            "type": "scattermapbox"
           }
          ],
          "scatterpolar": [
           {
            "marker": {
             "colorbar": {
              "outlinewidth": 0,
              "ticks": ""
             }
            },
            "type": "scatterpolar"
           }
          ],
          "scatterpolargl": [
           {
            "marker": {
             "colorbar": {
              "outlinewidth": 0,
              "ticks": ""
             }
            },
            "type": "scatterpolargl"
           }
          ],
          "scatterternary": [
           {
            "marker": {
             "colorbar": {
              "outlinewidth": 0,
              "ticks": ""
             }
            },
            "type": "scatterternary"
           }
          ],
          "surface": [
           {
            "colorbar": {
             "outlinewidth": 0,
             "ticks": ""
            },
            "colorscale": [
             [
              0,
              "#0d0887"
             ],
             [
              0.1111111111111111,
              "#46039f"
             ],
             [
              0.2222222222222222,
              "#7201a8"
             ],
             [
              0.3333333333333333,
              "#9c179e"
             ],
             [
              0.4444444444444444,
              "#bd3786"
             ],
             [
              0.5555555555555556,
              "#d8576b"
             ],
             [
              0.6666666666666666,
              "#ed7953"
             ],
             [
              0.7777777777777778,
              "#fb9f3a"
             ],
             [
              0.8888888888888888,
              "#fdca26"
             ],
             [
              1,
              "#f0f921"
             ]
            ],
            "type": "surface"
           }
          ],
          "table": [
           {
            "cells": {
             "fill": {
              "color": "#EBF0F8"
             },
             "line": {
              "color": "white"
             }
            },
            "header": {
             "fill": {
              "color": "#C8D4E3"
             },
             "line": {
              "color": "white"
             }
            },
            "type": "table"
           }
          ]
         },
         "layout": {
          "annotationdefaults": {
           "arrowcolor": "#2a3f5f",
           "arrowhead": 0,
           "arrowwidth": 1
          },
          "autotypenumbers": "strict",
          "coloraxis": {
           "colorbar": {
            "outlinewidth": 0,
            "ticks": ""
           }
          },
          "colorscale": {
           "diverging": [
            [
             0,
             "#8e0152"
            ],
            [
             0.1,
             "#c51b7d"
            ],
            [
             0.2,
             "#de77ae"
            ],
            [
             0.3,
             "#f1b6da"
            ],
            [
             0.4,
             "#fde0ef"
            ],
            [
             0.5,
             "#f7f7f7"
            ],
            [
             0.6,
             "#e6f5d0"
            ],
            [
             0.7,
             "#b8e186"
            ],
            [
             0.8,
             "#7fbc41"
            ],
            [
             0.9,
             "#4d9221"
            ],
            [
             1,
             "#276419"
            ]
           ],
           "sequential": [
            [
             0,
             "#0d0887"
            ],
            [
             0.1111111111111111,
             "#46039f"
            ],
            [
             0.2222222222222222,
             "#7201a8"
            ],
            [
             0.3333333333333333,
             "#9c179e"
            ],
            [
             0.4444444444444444,
             "#bd3786"
            ],
            [
             0.5555555555555556,
             "#d8576b"
            ],
            [
             0.6666666666666666,
             "#ed7953"
            ],
            [
             0.7777777777777778,
             "#fb9f3a"
            ],
            [
             0.8888888888888888,
             "#fdca26"
            ],
            [
             1,
             "#f0f921"
            ]
           ],
           "sequentialminus": [
            [
             0,
             "#0d0887"
            ],
            [
             0.1111111111111111,
             "#46039f"
            ],
            [
             0.2222222222222222,
             "#7201a8"
            ],
            [
             0.3333333333333333,
             "#9c179e"
            ],
            [
             0.4444444444444444,
             "#bd3786"
            ],
            [
             0.5555555555555556,
             "#d8576b"
            ],
            [
             0.6666666666666666,
             "#ed7953"
            ],
            [
             0.7777777777777778,
             "#fb9f3a"
            ],
            [
             0.8888888888888888,
             "#fdca26"
            ],
            [
             1,
             "#f0f921"
            ]
           ]
          },
          "colorway": [
           "#636efa",
           "#EF553B",
           "#00cc96",
           "#ab63fa",
           "#FFA15A",
           "#19d3f3",
           "#FF6692",
           "#B6E880",
           "#FF97FF",
           "#FECB52"
          ],
          "font": {
           "color": "#2a3f5f"
          },
          "geo": {
           "bgcolor": "white",
           "lakecolor": "white",
           "landcolor": "#E5ECF6",
           "showlakes": true,
           "showland": true,
           "subunitcolor": "white"
          },
          "hoverlabel": {
           "align": "left"
          },
          "hovermode": "closest",
          "mapbox": {
           "style": "light"
          },
          "paper_bgcolor": "white",
          "plot_bgcolor": "#E5ECF6",
          "polar": {
           "angularaxis": {
            "gridcolor": "white",
            "linecolor": "white",
            "ticks": ""
           },
           "bgcolor": "#E5ECF6",
           "radialaxis": {
            "gridcolor": "white",
            "linecolor": "white",
            "ticks": ""
           }
          },
          "scene": {
           "xaxis": {
            "backgroundcolor": "#E5ECF6",
            "gridcolor": "white",
            "gridwidth": 2,
            "linecolor": "white",
            "showbackground": true,
            "ticks": "",
            "zerolinecolor": "white"
           },
           "yaxis": {
            "backgroundcolor": "#E5ECF6",
            "gridcolor": "white",
            "gridwidth": 2,
            "linecolor": "white",
            "showbackground": true,
            "ticks": "",
            "zerolinecolor": "white"
           },
           "zaxis": {
            "backgroundcolor": "#E5ECF6",
            "gridcolor": "white",
            "gridwidth": 2,
            "linecolor": "white",
            "showbackground": true,
            "ticks": "",
            "zerolinecolor": "white"
           }
          },
          "shapedefaults": {
           "line": {
            "color": "#2a3f5f"
           }
          },
          "ternary": {
           "aaxis": {
            "gridcolor": "white",
            "linecolor": "white",
            "ticks": ""
           },
           "baxis": {
            "gridcolor": "white",
            "linecolor": "white",
            "ticks": ""
           },
           "bgcolor": "#E5ECF6",
           "caxis": {
            "gridcolor": "white",
            "linecolor": "white",
            "ticks": ""
           }
          },
          "title": {
           "x": 0.05
          },
          "xaxis": {
           "automargin": true,
           "gridcolor": "white",
           "linecolor": "white",
           "ticks": "",
           "title": {
            "standoff": 15
           },
           "zerolinecolor": "white",
           "zerolinewidth": 2
          },
          "yaxis": {
           "automargin": true,
           "gridcolor": "white",
           "linecolor": "white",
           "ticks": "",
           "title": {
            "standoff": 15
           },
           "zerolinecolor": "white",
           "zerolinewidth": 2
          }
         }
        },
        "title": {
         "text": "各类型冲突占比"
        },
        "width": 600
       }
      }
     },
     "metadata": {},
     "output_type": "display_data"
    },
    {
     "name": "stdout",
     "output_type": "stream",
     "text": [
      "defaultdict(<class 'int'>,\n",
      "            {'A': 89376,\n",
      "             'AB': 5479,\n",
      "             'B': 52780,\n",
      "             'BA': 2127,\n",
      "             'O': 695,\n",
      "             'mixline': 23787,\n",
      "             'newline': 25166,\n",
      "             'same modification, formatting maybe different': 7107})\n"
     ]
    }
   ],
   "source": [
    "# 输入 conflict_files，输出 类型分布 map，同时绘制饼图\n",
    "def analyze_label_distribution(conflict_files):\n",
    "    label_cnt = defaultdict(int)\n",
    "    for cf in conflict_files:\n",
    "        for cc in cf.conflict_chunks:\n",
    "            label_cnt[cc.label] += 1\n",
    "    \n",
    "    import plotly.graph_objects as go\n",
    "    # 创建饼图\n",
    "    labels = list(label_cnt.keys())\n",
    "    values = list(label_cnt.values())\n",
    "    fig = go.Figure(data=[go.Pie(labels=labels, values=values)])\n",
    "    # 设置布局\n",
    "    fig.update_layout(title_text=\"各类型冲突占比\", width=600, height=400)\n",
    "    # 显示图形\n",
    "    fig.show()\n",
    "    from pprint import pprint\n",
    "    pprint(label_cnt)\n",
    "    return label_cnt\n",
    "\n",
    "# 先收集后再运行\n",
    "# 或者加一步从文件中读取\n",
    "label_cnt = analyze_label_distribution(conflict_files)"
   ]
  },
  {
   "cell_type": "markdown",
   "metadata": {},
   "source": [
    "# 编辑分析没有交集的情况下直接合并的正确率"
   ]
  },
  {
   "cell_type": "code",
   "execution_count": 9,
   "metadata": {},
   "outputs": [],
   "source": [
    "def analyze_data(data, print_result=True):\n",
    "    '''\n",
    "    分析数据集，计算准确率等\n",
    "    '''\n",
    "    conflicts = [Conflict(conflict['ours'], conflict['theirs'],\n",
    "                        conflict['base'], conflict['resolve'], conflict['resolution_kind']) for conflict in data]\n",
    "    whitespace_conflict = 0\n",
    "    correct_with_no_empty_line = 0\n",
    "    resolution_offerable_kind = defaultdict(int)\n",
    "    kind_counter = defaultdict(int)\n",
    "    correct_counter = defaultdict(int)\n",
    "    too_many_edit_script = 0\n",
    "    too_many_lines = 0\n",
    "    iter = enumerate(tqdm(conflicts, desc=\"Processing conflicts\")) if print_result else enumerate(conflicts)\n",
    "    for i, conflict in iter:\n",
    "        kind_counter[conflict.resolution_kind] += 1\n",
    "\n",
    "        if len(conflict.base) > 1000 or len(conflict.ours) > 1000 or len(conflict.theirs) > 1000:\n",
    "            too_many_lines += 1\n",
    "            continue\n",
    "\n",
    "        from_ours = compute(conflict.base, conflict.ours)\n",
    "        from_theirs = compute(conflict.base, conflict.theirs)\n",
    "        \n",
    "        edit_script_num = len(from_ours) + len(from_theirs)\n",
    "        if edit_script_num > 10:  # 编辑脚本过多\n",
    "            too_many_edit_script += 1\n",
    "            continue\n",
    "\n",
    "\n",
    "        from_ours = sorted(from_ours, key=lambda x: x.seq1Range.start)\n",
    "        from_theirs = sorted(from_theirs, key=lambda x: x.seq1Range.start)\n",
    "        \n",
    "        generated = []\n",
    "        i, j = 0, 0\n",
    "        end = 0\n",
    "        inf = float('inf')\n",
    "        while i < len(from_ours) and j < len(from_theirs):  # 要在没有交集的前提下，按照顺序合并\n",
    "            # 双指针\n",
    "            ours_base_start, ours_base_end = from_ours[i].seq1Range.start, from_ours[i].seq1Range.end\n",
    "            theirs_base_start, theirs_base_end = from_theirs[j].seq1Range.start, from_theirs[j].seq1Range.end\n",
    "            if from_ours[i].seq1Range.intersect(from_theirs[j].seq1Range) != None:\n",
    "                i = inf\n",
    "                break\n",
    "            if ours_base_start < theirs_base_start:\n",
    "                generated.extend(conflict.base[end:ours_base_start])\n",
    "                generated.extend(conflict.ours[from_ours[i].seq2Range.start:from_ours[i].seq2Range.end])\n",
    "                end = ours_base_end\n",
    "                i += 1\n",
    "            elif ours_base_start > theirs_base_start:\n",
    "                generated.extend(conflict.base[end:theirs_base_start])\n",
    "                generated.extend(conflict.theirs[from_theirs[j].seq2Range.start:from_theirs[j].seq2Range.end])\n",
    "                end = theirs_base_end\n",
    "                j += 1\n",
    "            else:\n",
    "                generated.extend(conflict.base[end:ours_base_start])\n",
    "                if ours_base_end <= theirs_base_end:\n",
    "                    generated.extend(conflict.ours[from_ours[i].seq2Range.start:from_ours[i].seq2Range.end])\n",
    "                    generated.extend(conflict.theirs[from_theirs[j].seq2Range.start:from_theirs[j].seq2Range.end])\n",
    "                    end = theirs_base_end\n",
    "                else:\n",
    "                    generated.extend(conflict.theirs[from_theirs[j].seq2Range.start:from_theirs[j].seq2Range.end])\n",
    "                    generated.extend(conflict.ours[from_ours[i].seq2Range.start:from_ours[i].seq2Range.end])\n",
    "                    end = ours_base_end\n",
    "                i += 1\n",
    "                j += 1\n",
    "        \n",
    "        if i == inf:    # 有交集\n",
    "            continue\n",
    "        resolution_offerable_kind[conflict.resolution_kind] += 1\n",
    "\n",
    "        for diff_ours in from_ours[i:]:\n",
    "            generated.extend(conflict.base[end:diff_ours.seq1Range.start])\n",
    "            end = diff_ours.seq1Range.end\n",
    "            generated.extend(\n",
    "                conflict.ours[diff_ours.seq2Range.start:diff_ours.seq2Range.end])\n",
    "        for diff_theirs in from_theirs[j:]:\n",
    "            generated.extend(conflict.base[end:diff_theirs.seq1Range.start])\n",
    "            end = diff_theirs.seq1Range.end\n",
    "            generated.extend(\n",
    "                conflict.theirs[diff_theirs.seq2Range.start:diff_theirs.seq2Range.end])\n",
    "        generated.extend(conflict.base[end:])  # base有尾巴的话加上\n",
    "        if generated == conflict.resolution:    # 完全相同\n",
    "            correct_counter[conflict.resolution_kind] += 1\n",
    "\n",
    "        def if_empty_line(line):\n",
    "            # 使用正则表达式判断字符串 line 是否全为空白符\n",
    "            return re.match(r'^\\s*$', line) is not None # 应该可以换成 line.isspace() or line == ''\n",
    "\n",
    "        if [x for x in generated if not if_empty_line(x)] == [x for x in conflict.resolution if not if_empty_line(x)]:\n",
    "            # todo: 考虑过滤空格影响\n",
    "            correct_with_no_empty_line += 1\n",
    "\n",
    "    correct = sum(correct_counter.values())\n",
    "    resolution_offerable = sum(resolution_offerable_kind.values())\n",
    "    conflict_sum = sum(kind_counter.values())\n",
    "\n",
    "    if print_result:\n",
    "        print()\n",
    "        print(f'编辑脚本过多的冲突数量：{too_many_edit_script}')\n",
    "        print(f'行数过多的冲突数量：{too_many_lines}')\n",
    "        print(f'空白符冲突数量：{whitespace_conflict}')\n",
    "        print()\n",
    "        print(f'没有重叠，可以提供推荐的数量: {resolution_offerable}/{conflict_sum} = {resolution_offerable/conflict_sum * 100}%')\n",
    "        print(f'过滤空行之前 准确率: {correct}/{conflict_sum} = {correct/conflict_sum * 100}%，占可以提供推荐的 {correct/resolution_offerable * 100}%')\n",
    "        print(f'过滤空行之后 准确率: {correct_with_no_empty_line}/{conflict_sum} = {correct_with_no_empty_line/conflict_sum * 100}%，占可以提供推荐的 {correct_with_no_empty_line/resolution_offerable * 100}%')\n",
    "\n",
    "        print()\n",
    "        print('各种类型的冲突数量占比：')\n",
    "        for k, v in kind_counter.items():\n",
    "            print(f'{k}:{v} , {v/conflict_sum*100:.2f}%')\n",
    "\n",
    "        print()\n",
    "        print('使用规则，各种类型的冲突规则正确率：')\n",
    "        for k, v in kind_counter.items():\n",
    "            print(f'{k}:{correct_counter[k]}/{v} , {correct_counter[k]/v*100:.2f}%')\n",
    "    return { \n",
    "        'resolution_offerable': resolution_offerable, \n",
    "        'conflict_sum': conflict_sum, \n",
    "        'correct': correct, \n",
    "        'correct_with_no_empty_line': correct_with_no_empty_line, \n",
    "        'kind_counter': kind_counter, \n",
    "        'correct_counter': correct_counter,\n",
    "        'too_many_edit_script': too_many_edit_script,\n",
    "        'too_many_lines': too_many_lines,\n",
    "        'whitespace_conflict': whitespace_conflict\n",
    "    }"
   ]
  },
  {
   "cell_type": "code",
   "execution_count": 3,
   "metadata": {},
   "outputs": [],
   "source": [
    "# 忽略 import 语句的冲突\n",
    "# 读取冲突数据集\n",
    "with open(output_file, 'r') as f:\n",
    "    data = json.load(f)\n",
    "no_import_data = filter(lambda c: not import_related_conflict(c), data)\n",
    "analyze_data(no_import_data)"
   ]
  },
  {
   "cell_type": "markdown",
   "metadata": {},
   "source": [
    "# 分析各仓库类型分布\n",
    "\n",
    "尝试过滤一些分布特别不均匀的  \n",
    "以及冲突很特殊的"
   ]
  },
  {
   "cell_type": "code",
   "execution_count": 47,
   "metadata": {},
   "outputs": [
    {
     "name": "stderr",
     "output_type": "stream",
     "text": [
      "100%|██████████| 2473/2473 [01:21<00:00, 30.47it/s] \n"
     ]
    }
   ],
   "source": [
    "repo_dir = work_dir / \"data\" / \"2000repos\" / \"conflictFiles\"       # 陈放所有仓库的冲突文件\n",
    "\n",
    "# 所有仓库\n",
    "repos = [repo for repo in os.listdir(repo_dir) if os.path.isdir(repo_dir / repo)]\n",
    "conflicts_from_repos = {}\n",
    "for repo in tqdm(repos):\n",
    "    jsonPaths = getAllJsonsUnder(str(repo_dir / repo))\n",
    "    results, kind_counter = collect_conflict_from_jsonPaths(jsonPaths, show_progress=False)\n",
    "    conflicts_from_repos[repo] = results"
   ]
  },
  {
   "cell_type": "code",
   "execution_count": 34,
   "metadata": {},
   "outputs": [
    {
     "name": "stdout",
     "output_type": "stream",
     "text": [
      "9468\n"
     ]
    }
   ],
   "source": [
    "# 打印 XCoLab 的冲突\n",
    "xcolab_conflicts = conflicts_from_repos['XCoLab']\n",
    "print(len(xcolab_conflicts))\n",
    "# 随机取一个打印\n",
    "import random\n",
    "random_conflict = random.choice(xcolab_conflicts)\n",
    "\n",
    "view_dir = '/Users/foril/projects/conflict_resolve/test_with_vscode/tmp'\n",
    "def print_conflict(conflict):\n",
    "    # 输出冲突\n",
    "    conflict2file(Conflict(conflict['ours'], conflict['theirs'], conflict['base'], conflict['resolve']), Path(view_dir))\n",
    "\n",
    "print_conflict(random_conflict)"
   ]
  },
  {
   "cell_type": "code",
   "execution_count": 35,
   "metadata": {},
   "outputs": [],
   "source": [
    "# 删除特殊仓库，存储一份数据\n",
    "deleted_repos = ['XCoLab']\n",
    "for repo in deleted_repos:\n",
    "    del conflicts_from_repos[repo]\n",
    "remained_conflicts = [conflict for conflicts in conflicts_from_repos.values() for conflict in conflicts]"
   ]
  },
  {
   "cell_type": "code",
   "execution_count": 38,
   "metadata": {},
   "outputs": [],
   "source": [
    "# 保存结果\n",
    "remained_file = work_dir / \"output\" / \"2000repos_remained.json\"\n",
    "with open( remained_file, \"w\") as f:\n",
    "    json.dump(remained_conflicts, f)"
   ]
  },
  {
   "cell_type": "code",
   "execution_count": 48,
   "metadata": {},
   "outputs": [
    {
     "data": {
      "application/vnd.plotly.v1+json": {
       "config": {
        "plotlyServerURL": "https://plot.ly"
       },
       "data": [
        {
         "labels": [
          "newline",
          "mixline",
          "accept_ours",
          "accept_theirs",
          "concat_ours_theirs",
          "concat_theirs_ours",
          "delete_all",
          "accept_base"
         ],
         "type": "pie",
         "values": [
          2244,
          189,
          5309,
          1645,
          30,
          21,
          19,
          11
         ]
        }
       ],
       "layout": {
        "template": {
         "data": {
          "bar": [
           {
            "error_x": {
             "color": "#2a3f5f"
            },
            "error_y": {
             "color": "#2a3f5f"
            },
            "marker": {
             "line": {
              "color": "#E5ECF6",
              "width": 0.5
             },
             "pattern": {
              "fillmode": "overlay",
              "size": 10,
              "solidity": 0.2
             }
            },
            "type": "bar"
           }
          ],
          "barpolar": [
           {
            "marker": {
             "line": {
              "color": "#E5ECF6",
              "width": 0.5
             },
             "pattern": {
              "fillmode": "overlay",
              "size": 10,
              "solidity": 0.2
             }
            },
            "type": "barpolar"
           }
          ],
          "carpet": [
           {
            "aaxis": {
             "endlinecolor": "#2a3f5f",
             "gridcolor": "white",
             "linecolor": "white",
             "minorgridcolor": "white",
             "startlinecolor": "#2a3f5f"
            },
            "baxis": {
             "endlinecolor": "#2a3f5f",
             "gridcolor": "white",
             "linecolor": "white",
             "minorgridcolor": "white",
             "startlinecolor": "#2a3f5f"
            },
            "type": "carpet"
           }
          ],
          "choropleth": [
           {
            "colorbar": {
             "outlinewidth": 0,
             "ticks": ""
            },
            "type": "choropleth"
           }
          ],
          "contour": [
           {
            "colorbar": {
             "outlinewidth": 0,
             "ticks": ""
            },
            "colorscale": [
             [
              0,
              "#0d0887"
             ],
             [
              0.1111111111111111,
              "#46039f"
             ],
             [
              0.2222222222222222,
              "#7201a8"
             ],
             [
              0.3333333333333333,
              "#9c179e"
             ],
             [
              0.4444444444444444,
              "#bd3786"
             ],
             [
              0.5555555555555556,
              "#d8576b"
             ],
             [
              0.6666666666666666,
              "#ed7953"
             ],
             [
              0.7777777777777778,
              "#fb9f3a"
             ],
             [
              0.8888888888888888,
              "#fdca26"
             ],
             [
              1,
              "#f0f921"
             ]
            ],
            "type": "contour"
           }
          ],
          "contourcarpet": [
           {
            "colorbar": {
             "outlinewidth": 0,
             "ticks": ""
            },
            "type": "contourcarpet"
           }
          ],
          "heatmap": [
           {
            "colorbar": {
             "outlinewidth": 0,
             "ticks": ""
            },
            "colorscale": [
             [
              0,
              "#0d0887"
             ],
             [
              0.1111111111111111,
              "#46039f"
             ],
             [
              0.2222222222222222,
              "#7201a8"
             ],
             [
              0.3333333333333333,
              "#9c179e"
             ],
             [
              0.4444444444444444,
              "#bd3786"
             ],
             [
              0.5555555555555556,
              "#d8576b"
             ],
             [
              0.6666666666666666,
              "#ed7953"
             ],
             [
              0.7777777777777778,
              "#fb9f3a"
             ],
             [
              0.8888888888888888,
              "#fdca26"
             ],
             [
              1,
              "#f0f921"
             ]
            ],
            "type": "heatmap"
           }
          ],
          "heatmapgl": [
           {
            "colorbar": {
             "outlinewidth": 0,
             "ticks": ""
            },
            "colorscale": [
             [
              0,
              "#0d0887"
             ],
             [
              0.1111111111111111,
              "#46039f"
             ],
             [
              0.2222222222222222,
              "#7201a8"
             ],
             [
              0.3333333333333333,
              "#9c179e"
             ],
             [
              0.4444444444444444,
              "#bd3786"
             ],
             [
              0.5555555555555556,
              "#d8576b"
             ],
             [
              0.6666666666666666,
              "#ed7953"
             ],
             [
              0.7777777777777778,
              "#fb9f3a"
             ],
             [
              0.8888888888888888,
              "#fdca26"
             ],
             [
              1,
              "#f0f921"
             ]
            ],
            "type": "heatmapgl"
           }
          ],
          "histogram": [
           {
            "marker": {
             "pattern": {
              "fillmode": "overlay",
              "size": 10,
              "solidity": 0.2
             }
            },
            "type": "histogram"
           }
          ],
          "histogram2d": [
           {
            "colorbar": {
             "outlinewidth": 0,
             "ticks": ""
            },
            "colorscale": [
             [
              0,
              "#0d0887"
             ],
             [
              0.1111111111111111,
              "#46039f"
             ],
             [
              0.2222222222222222,
              "#7201a8"
             ],
             [
              0.3333333333333333,
              "#9c179e"
             ],
             [
              0.4444444444444444,
              "#bd3786"
             ],
             [
              0.5555555555555556,
              "#d8576b"
             ],
             [
              0.6666666666666666,
              "#ed7953"
             ],
             [
              0.7777777777777778,
              "#fb9f3a"
             ],
             [
              0.8888888888888888,
              "#fdca26"
             ],
             [
              1,
              "#f0f921"
             ]
            ],
            "type": "histogram2d"
           }
          ],
          "histogram2dcontour": [
           {
            "colorbar": {
             "outlinewidth": 0,
             "ticks": ""
            },
            "colorscale": [
             [
              0,
              "#0d0887"
             ],
             [
              0.1111111111111111,
              "#46039f"
             ],
             [
              0.2222222222222222,
              "#7201a8"
             ],
             [
              0.3333333333333333,
              "#9c179e"
             ],
             [
              0.4444444444444444,
              "#bd3786"
             ],
             [
              0.5555555555555556,
              "#d8576b"
             ],
             [
              0.6666666666666666,
              "#ed7953"
             ],
             [
              0.7777777777777778,
              "#fb9f3a"
             ],
             [
              0.8888888888888888,
              "#fdca26"
             ],
             [
              1,
              "#f0f921"
             ]
            ],
            "type": "histogram2dcontour"
           }
          ],
          "mesh3d": [
           {
            "colorbar": {
             "outlinewidth": 0,
             "ticks": ""
            },
            "type": "mesh3d"
           }
          ],
          "parcoords": [
           {
            "line": {
             "colorbar": {
              "outlinewidth": 0,
              "ticks": ""
             }
            },
            "type": "parcoords"
           }
          ],
          "pie": [
           {
            "automargin": true,
            "type": "pie"
           }
          ],
          "scatter": [
           {
            "fillpattern": {
             "fillmode": "overlay",
             "size": 10,
             "solidity": 0.2
            },
            "type": "scatter"
           }
          ],
          "scatter3d": [
           {
            "line": {
             "colorbar": {
              "outlinewidth": 0,
              "ticks": ""
             }
            },
            "marker": {
             "colorbar": {
              "outlinewidth": 0,
              "ticks": ""
             }
            },
            "type": "scatter3d"
           }
          ],
          "scattercarpet": [
           {
            "marker": {
             "colorbar": {
              "outlinewidth": 0,
              "ticks": ""
             }
            },
            "type": "scattercarpet"
           }
          ],
          "scattergeo": [
           {
            "marker": {
             "colorbar": {
              "outlinewidth": 0,
              "ticks": ""
             }
            },
            "type": "scattergeo"
           }
          ],
          "scattergl": [
           {
            "marker": {
             "colorbar": {
              "outlinewidth": 0,
              "ticks": ""
             }
            },
            "type": "scattergl"
           }
          ],
          "scattermapbox": [
           {
            "marker": {
             "colorbar": {
              "outlinewidth": 0,
              "ticks": ""
             }
            },
            "type": "scattermapbox"
           }
          ],
          "scatterpolar": [
           {
            "marker": {
             "colorbar": {
              "outlinewidth": 0,
              "ticks": ""
             }
            },
            "type": "scatterpolar"
           }
          ],
          "scatterpolargl": [
           {
            "marker": {
             "colorbar": {
              "outlinewidth": 0,
              "ticks": ""
             }
            },
            "type": "scatterpolargl"
           }
          ],
          "scatterternary": [
           {
            "marker": {
             "colorbar": {
              "outlinewidth": 0,
              "ticks": ""
             }
            },
            "type": "scatterternary"
           }
          ],
          "surface": [
           {
            "colorbar": {
             "outlinewidth": 0,
             "ticks": ""
            },
            "colorscale": [
             [
              0,
              "#0d0887"
             ],
             [
              0.1111111111111111,
              "#46039f"
             ],
             [
              0.2222222222222222,
              "#7201a8"
             ],
             [
              0.3333333333333333,
              "#9c179e"
             ],
             [
              0.4444444444444444,
              "#bd3786"
             ],
             [
              0.5555555555555556,
              "#d8576b"
             ],
             [
              0.6666666666666666,
              "#ed7953"
             ],
             [
              0.7777777777777778,
              "#fb9f3a"
             ],
             [
              0.8888888888888888,
              "#fdca26"
             ],
             [
              1,
              "#f0f921"
             ]
            ],
            "type": "surface"
           }
          ],
          "table": [
           {
            "cells": {
             "fill": {
              "color": "#EBF0F8"
             },
             "line": {
              "color": "white"
             }
            },
            "header": {
             "fill": {
              "color": "#C8D4E3"
             },
             "line": {
              "color": "white"
             }
            },
            "type": "table"
           }
          ]
         },
         "layout": {
          "annotationdefaults": {
           "arrowcolor": "#2a3f5f",
           "arrowhead": 0,
           "arrowwidth": 1
          },
          "autotypenumbers": "strict",
          "coloraxis": {
           "colorbar": {
            "outlinewidth": 0,
            "ticks": ""
           }
          },
          "colorscale": {
           "diverging": [
            [
             0,
             "#8e0152"
            ],
            [
             0.1,
             "#c51b7d"
            ],
            [
             0.2,
             "#de77ae"
            ],
            [
             0.3,
             "#f1b6da"
            ],
            [
             0.4,
             "#fde0ef"
            ],
            [
             0.5,
             "#f7f7f7"
            ],
            [
             0.6,
             "#e6f5d0"
            ],
            [
             0.7,
             "#b8e186"
            ],
            [
             0.8,
             "#7fbc41"
            ],
            [
             0.9,
             "#4d9221"
            ],
            [
             1,
             "#276419"
            ]
           ],
           "sequential": [
            [
             0,
             "#0d0887"
            ],
            [
             0.1111111111111111,
             "#46039f"
            ],
            [
             0.2222222222222222,
             "#7201a8"
            ],
            [
             0.3333333333333333,
             "#9c179e"
            ],
            [
             0.4444444444444444,
             "#bd3786"
            ],
            [
             0.5555555555555556,
             "#d8576b"
            ],
            [
             0.6666666666666666,
             "#ed7953"
            ],
            [
             0.7777777777777778,
             "#fb9f3a"
            ],
            [
             0.8888888888888888,
             "#fdca26"
            ],
            [
             1,
             "#f0f921"
            ]
           ],
           "sequentialminus": [
            [
             0,
             "#0d0887"
            ],
            [
             0.1111111111111111,
             "#46039f"
            ],
            [
             0.2222222222222222,
             "#7201a8"
            ],
            [
             0.3333333333333333,
             "#9c179e"
            ],
            [
             0.4444444444444444,
             "#bd3786"
            ],
            [
             0.5555555555555556,
             "#d8576b"
            ],
            [
             0.6666666666666666,
             "#ed7953"
            ],
            [
             0.7777777777777778,
             "#fb9f3a"
            ],
            [
             0.8888888888888888,
             "#fdca26"
            ],
            [
             1,
             "#f0f921"
            ]
           ]
          },
          "colorway": [
           "#636efa",
           "#EF553B",
           "#00cc96",
           "#ab63fa",
           "#FFA15A",
           "#19d3f3",
           "#FF6692",
           "#B6E880",
           "#FF97FF",
           "#FECB52"
          ],
          "font": {
           "color": "#2a3f5f"
          },
          "geo": {
           "bgcolor": "white",
           "lakecolor": "white",
           "landcolor": "#E5ECF6",
           "showlakes": true,
           "showland": true,
           "subunitcolor": "white"
          },
          "hoverlabel": {
           "align": "left"
          },
          "hovermode": "closest",
          "mapbox": {
           "style": "light"
          },
          "paper_bgcolor": "white",
          "plot_bgcolor": "#E5ECF6",
          "polar": {
           "angularaxis": {
            "gridcolor": "white",
            "linecolor": "white",
            "ticks": ""
           },
           "bgcolor": "#E5ECF6",
           "radialaxis": {
            "gridcolor": "white",
            "linecolor": "white",
            "ticks": ""
           }
          },
          "scene": {
           "xaxis": {
            "backgroundcolor": "#E5ECF6",
            "gridcolor": "white",
            "gridwidth": 2,
            "linecolor": "white",
            "showbackground": true,
            "ticks": "",
            "zerolinecolor": "white"
           },
           "yaxis": {
            "backgroundcolor": "#E5ECF6",
            "gridcolor": "white",
            "gridwidth": 2,
            "linecolor": "white",
            "showbackground": true,
            "ticks": "",
            "zerolinecolor": "white"
           },
           "zaxis": {
            "backgroundcolor": "#E5ECF6",
            "gridcolor": "white",
            "gridwidth": 2,
            "linecolor": "white",
            "showbackground": true,
            "ticks": "",
            "zerolinecolor": "white"
           }
          },
          "shapedefaults": {
           "line": {
            "color": "#2a3f5f"
           }
          },
          "ternary": {
           "aaxis": {
            "gridcolor": "white",
            "linecolor": "white",
            "ticks": ""
           },
           "baxis": {
            "gridcolor": "white",
            "linecolor": "white",
            "ticks": ""
           },
           "bgcolor": "#E5ECF6",
           "caxis": {
            "gridcolor": "white",
            "linecolor": "white",
            "ticks": ""
           }
          },
          "title": {
           "x": 0.05
          },
          "xaxis": {
           "automargin": true,
           "gridcolor": "white",
           "linecolor": "white",
           "ticks": "",
           "title": {
            "standoff": 15
           },
           "zerolinecolor": "white",
           "zerolinewidth": 2
          },
          "yaxis": {
           "automargin": true,
           "gridcolor": "white",
           "linecolor": "white",
           "ticks": "",
           "title": {
            "standoff": 15
           },
           "zerolinecolor": "white",
           "zerolinewidth": 2
          }
         }
        }
       }
      }
     },
     "metadata": {},
     "output_type": "display_data"
    }
   ],
   "source": [
    "# for conflicts in conflicts_from_repos.values():\n",
    "for conflicts in [conflicts_from_repos['XCoLab']]:\n",
    "    res = analyze_data(conflicts, print_result=False)\n",
    "    kind_counter = res['kind_counter']\n",
    "    # kind_counter 绘制饼图\n",
    "    import plotly.graph_objects as go\n",
    "    _labels = ['newline', 'mixline', 'accept_ours', 'accept_theirs', 'concat_ours_theirs', 'concat_theirs_ours', 'delete_all', 'accept_base']\n",
    "    _values = [kind_counter[label] for label in _labels]\n",
    "    fig = go.Figure(data=[go.Pie(labels=_labels, values=_values)])\n",
    "    fig.show()"
   ]
  },
  {
   "cell_type": "markdown",
   "metadata": {},
   "source": [
    "## 处理所有数据\n",
    "\n",
    "分析各类别占比，以及采用规则能够解决的数量占比"
   ]
  },
  {
   "cell_type": "code",
   "execution_count": 10,
   "metadata": {},
   "outputs": [],
   "source": [
    "# 读取冲突数据集\n",
    "with open(output_file, 'r') as f:\n",
    "    results = json.load(f)"
   ]
  },
  {
   "cell_type": "code",
   "execution_count": null,
   "metadata": {},
   "outputs": [],
   "source": [
    "all_result = analyze_data(results)"
   ]
  },
  {
   "cell_type": "code",
   "execution_count": 24,
   "metadata": {},
   "outputs": [
    {
     "name": "stdout",
     "output_type": "stream",
     "text": [
      "冲突类型： newline\n",
      "project_name: XCoLab\n",
      "/Users/foril/projects/conflict_resolve/dataset_collect_analysis_script\n",
      "path: /Users/foril/projects/conflict_resolve/dataset_collect_analysis_script/data/2000repos/conflictFiles/XCoLab/1aeca074997e86fb0ca919d4eb61ff65fc8fe691_1408574682/services/plansProposalsFacade/plansProposalsFacade-portlet/src/main/java/com/ext/portlet/service/base/ActivitySubscriptionLocalServiceClpInvoker.java/metadata.json\n"
     ]
    }
   ],
   "source": [
    "view_dir = '/Users/foril/projects/conflict_resolve/test_with_vscode/tmp'\n",
    "\n",
    "def print_conflict(conflict):\n",
    "    # 输出冲突\n",
    "    conflict2file(Conflict(conflict['ours'], conflict['theirs'], conflict['base'], conflict['resolve']), Path(view_dir))\n",
    "\n",
    "import random\n",
    "i = random.randint(0, len(results))\n",
    "\n",
    "conflict = results[i]\n",
    "while conflict['resolution_kind'] != 'newline': # 选择一个 newline 的冲突\n",
    "    i = random.randint(0, len(results))\n",
    "    conflict = results[i]\n",
    "print_conflict(conflict)\n",
    "print('冲突类型：', conflict['resolution_kind'])\n",
    "print('project_name:', conflict['project_name'])\n",
    "print(work_dir)\n",
    "print('path:', str(work_dir / \"data/2000repos/conflictFiles\") + conflict['path'][32:] + \"/metadata.json\") "
   ]
  },
  {
   "cell_type": "markdown",
   "metadata": {},
   "source": [
    "## 结果可视化"
   ]
  },
  {
   "cell_type": "code",
   "execution_count": 6,
   "metadata": {},
   "outputs": [
    {
     "data": {
      "application/vnd.plotly.v1+json": {
       "config": {
        "plotlyServerURL": "https://plot.ly"
       },
       "data": [
        {
         "labels": [
          "newline",
          "mixline",
          "accept_ours",
          "accept_theirs",
          "concat_ours_theirs",
          "concat_theirs_ours",
          "delete_all",
          "accept_base"
         ],
         "sort": false,
         "type": "pie",
         "values": [
          29138,
          26038,
          88132,
          51321,
          3728,
          1424,
          1266,
          772
         ]
        }
       ],
       "layout": {
        "template": {
         "data": {
          "bar": [
           {
            "error_x": {
             "color": "#2a3f5f"
            },
            "error_y": {
             "color": "#2a3f5f"
            },
            "marker": {
             "line": {
              "color": "#E5ECF6",
              "width": 0.5
             },
             "pattern": {
              "fillmode": "overlay",
              "size": 10,
              "solidity": 0.2
             }
            },
            "type": "bar"
           }
          ],
          "barpolar": [
           {
            "marker": {
             "line": {
              "color": "#E5ECF6",
              "width": 0.5
             },
             "pattern": {
              "fillmode": "overlay",
              "size": 10,
              "solidity": 0.2
             }
            },
            "type": "barpolar"
           }
          ],
          "carpet": [
           {
            "aaxis": {
             "endlinecolor": "#2a3f5f",
             "gridcolor": "white",
             "linecolor": "white",
             "minorgridcolor": "white",
             "startlinecolor": "#2a3f5f"
            },
            "baxis": {
             "endlinecolor": "#2a3f5f",
             "gridcolor": "white",
             "linecolor": "white",
             "minorgridcolor": "white",
             "startlinecolor": "#2a3f5f"
            },
            "type": "carpet"
           }
          ],
          "choropleth": [
           {
            "colorbar": {
             "outlinewidth": 0,
             "ticks": ""
            },
            "type": "choropleth"
           }
          ],
          "contour": [
           {
            "colorbar": {
             "outlinewidth": 0,
             "ticks": ""
            },
            "colorscale": [
             [
              0,
              "#0d0887"
             ],
             [
              0.1111111111111111,
              "#46039f"
             ],
             [
              0.2222222222222222,
              "#7201a8"
             ],
             [
              0.3333333333333333,
              "#9c179e"
             ],
             [
              0.4444444444444444,
              "#bd3786"
             ],
             [
              0.5555555555555556,
              "#d8576b"
             ],
             [
              0.6666666666666666,
              "#ed7953"
             ],
             [
              0.7777777777777778,
              "#fb9f3a"
             ],
             [
              0.8888888888888888,
              "#fdca26"
             ],
             [
              1,
              "#f0f921"
             ]
            ],
            "type": "contour"
           }
          ],
          "contourcarpet": [
           {
            "colorbar": {
             "outlinewidth": 0,
             "ticks": ""
            },
            "type": "contourcarpet"
           }
          ],
          "heatmap": [
           {
            "colorbar": {
             "outlinewidth": 0,
             "ticks": ""
            },
            "colorscale": [
             [
              0,
              "#0d0887"
             ],
             [
              0.1111111111111111,
              "#46039f"
             ],
             [
              0.2222222222222222,
              "#7201a8"
             ],
             [
              0.3333333333333333,
              "#9c179e"
             ],
             [
              0.4444444444444444,
              "#bd3786"
             ],
             [
              0.5555555555555556,
              "#d8576b"
             ],
             [
              0.6666666666666666,
              "#ed7953"
             ],
             [
              0.7777777777777778,
              "#fb9f3a"
             ],
             [
              0.8888888888888888,
              "#fdca26"
             ],
             [
              1,
              "#f0f921"
             ]
            ],
            "type": "heatmap"
           }
          ],
          "heatmapgl": [
           {
            "colorbar": {
             "outlinewidth": 0,
             "ticks": ""
            },
            "colorscale": [
             [
              0,
              "#0d0887"
             ],
             [
              0.1111111111111111,
              "#46039f"
             ],
             [
              0.2222222222222222,
              "#7201a8"
             ],
             [
              0.3333333333333333,
              "#9c179e"
             ],
             [
              0.4444444444444444,
              "#bd3786"
             ],
             [
              0.5555555555555556,
              "#d8576b"
             ],
             [
              0.6666666666666666,
              "#ed7953"
             ],
             [
              0.7777777777777778,
              "#fb9f3a"
             ],
             [
              0.8888888888888888,
              "#fdca26"
             ],
             [
              1,
              "#f0f921"
             ]
            ],
            "type": "heatmapgl"
           }
          ],
          "histogram": [
           {
            "marker": {
             "pattern": {
              "fillmode": "overlay",
              "size": 10,
              "solidity": 0.2
             }
            },
            "type": "histogram"
           }
          ],
          "histogram2d": [
           {
            "colorbar": {
             "outlinewidth": 0,
             "ticks": ""
            },
            "colorscale": [
             [
              0,
              "#0d0887"
             ],
             [
              0.1111111111111111,
              "#46039f"
             ],
             [
              0.2222222222222222,
              "#7201a8"
             ],
             [
              0.3333333333333333,
              "#9c179e"
             ],
             [
              0.4444444444444444,
              "#bd3786"
             ],
             [
              0.5555555555555556,
              "#d8576b"
             ],
             [
              0.6666666666666666,
              "#ed7953"
             ],
             [
              0.7777777777777778,
              "#fb9f3a"
             ],
             [
              0.8888888888888888,
              "#fdca26"
             ],
             [
              1,
              "#f0f921"
             ]
            ],
            "type": "histogram2d"
           }
          ],
          "histogram2dcontour": [
           {
            "colorbar": {
             "outlinewidth": 0,
             "ticks": ""
            },
            "colorscale": [
             [
              0,
              "#0d0887"
             ],
             [
              0.1111111111111111,
              "#46039f"
             ],
             [
              0.2222222222222222,
              "#7201a8"
             ],
             [
              0.3333333333333333,
              "#9c179e"
             ],
             [
              0.4444444444444444,
              "#bd3786"
             ],
             [
              0.5555555555555556,
              "#d8576b"
             ],
             [
              0.6666666666666666,
              "#ed7953"
             ],
             [
              0.7777777777777778,
              "#fb9f3a"
             ],
             [
              0.8888888888888888,
              "#fdca26"
             ],
             [
              1,
              "#f0f921"
             ]
            ],
            "type": "histogram2dcontour"
           }
          ],
          "mesh3d": [
           {
            "colorbar": {
             "outlinewidth": 0,
             "ticks": ""
            },
            "type": "mesh3d"
           }
          ],
          "parcoords": [
           {
            "line": {
             "colorbar": {
              "outlinewidth": 0,
              "ticks": ""
             }
            },
            "type": "parcoords"
           }
          ],
          "pie": [
           {
            "automargin": true,
            "type": "pie"
           }
          ],
          "scatter": [
           {
            "fillpattern": {
             "fillmode": "overlay",
             "size": 10,
             "solidity": 0.2
            },
            "type": "scatter"
           }
          ],
          "scatter3d": [
           {
            "line": {
             "colorbar": {
              "outlinewidth": 0,
              "ticks": ""
             }
            },
            "marker": {
             "colorbar": {
              "outlinewidth": 0,
              "ticks": ""
             }
            },
            "type": "scatter3d"
           }
          ],
          "scattercarpet": [
           {
            "marker": {
             "colorbar": {
              "outlinewidth": 0,
              "ticks": ""
             }
            },
            "type": "scattercarpet"
           }
          ],
          "scattergeo": [
           {
            "marker": {
             "colorbar": {
              "outlinewidth": 0,
              "ticks": ""
             }
            },
            "type": "scattergeo"
           }
          ],
          "scattergl": [
           {
            "marker": {
             "colorbar": {
              "outlinewidth": 0,
              "ticks": ""
             }
            },
            "type": "scattergl"
           }
          ],
          "scattermapbox": [
           {
            "marker": {
             "colorbar": {
              "outlinewidth": 0,
              "ticks": ""
             }
            },
            "type": "scattermapbox"
           }
          ],
          "scatterpolar": [
           {
            "marker": {
             "colorbar": {
              "outlinewidth": 0,
              "ticks": ""
             }
            },
            "type": "scatterpolar"
           }
          ],
          "scatterpolargl": [
           {
            "marker": {
             "colorbar": {
              "outlinewidth": 0,
              "ticks": ""
             }
            },
            "type": "scatterpolargl"
           }
          ],
          "scatterternary": [
           {
            "marker": {
             "colorbar": {
              "outlinewidth": 0,
              "ticks": ""
             }
            },
            "type": "scatterternary"
           }
          ],
          "surface": [
           {
            "colorbar": {
             "outlinewidth": 0,
             "ticks": ""
            },
            "colorscale": [
             [
              0,
              "#0d0887"
             ],
             [
              0.1111111111111111,
              "#46039f"
             ],
             [
              0.2222222222222222,
              "#7201a8"
             ],
             [
              0.3333333333333333,
              "#9c179e"
             ],
             [
              0.4444444444444444,
              "#bd3786"
             ],
             [
              0.5555555555555556,
              "#d8576b"
             ],
             [
              0.6666666666666666,
              "#ed7953"
             ],
             [
              0.7777777777777778,
              "#fb9f3a"
             ],
             [
              0.8888888888888888,
              "#fdca26"
             ],
             [
              1,
              "#f0f921"
             ]
            ],
            "type": "surface"
           }
          ],
          "table": [
           {
            "cells": {
             "fill": {
              "color": "#EBF0F8"
             },
             "line": {
              "color": "white"
             }
            },
            "header": {
             "fill": {
              "color": "#C8D4E3"
             },
             "line": {
              "color": "white"
             }
            },
            "type": "table"
           }
          ]
         },
         "layout": {
          "annotationdefaults": {
           "arrowcolor": "#2a3f5f",
           "arrowhead": 0,
           "arrowwidth": 1
          },
          "autotypenumbers": "strict",
          "coloraxis": {
           "colorbar": {
            "outlinewidth": 0,
            "ticks": ""
           }
          },
          "colorscale": {
           "diverging": [
            [
             0,
             "#8e0152"
            ],
            [
             0.1,
             "#c51b7d"
            ],
            [
             0.2,
             "#de77ae"
            ],
            [
             0.3,
             "#f1b6da"
            ],
            [
             0.4,
             "#fde0ef"
            ],
            [
             0.5,
             "#f7f7f7"
            ],
            [
             0.6,
             "#e6f5d0"
            ],
            [
             0.7,
             "#b8e186"
            ],
            [
             0.8,
             "#7fbc41"
            ],
            [
             0.9,
             "#4d9221"
            ],
            [
             1,
             "#276419"
            ]
           ],
           "sequential": [
            [
             0,
             "#0d0887"
            ],
            [
             0.1111111111111111,
             "#46039f"
            ],
            [
             0.2222222222222222,
             "#7201a8"
            ],
            [
             0.3333333333333333,
             "#9c179e"
            ],
            [
             0.4444444444444444,
             "#bd3786"
            ],
            [
             0.5555555555555556,
             "#d8576b"
            ],
            [
             0.6666666666666666,
             "#ed7953"
            ],
            [
             0.7777777777777778,
             "#fb9f3a"
            ],
            [
             0.8888888888888888,
             "#fdca26"
            ],
            [
             1,
             "#f0f921"
            ]
           ],
           "sequentialminus": [
            [
             0,
             "#0d0887"
            ],
            [
             0.1111111111111111,
             "#46039f"
            ],
            [
             0.2222222222222222,
             "#7201a8"
            ],
            [
             0.3333333333333333,
             "#9c179e"
            ],
            [
             0.4444444444444444,
             "#bd3786"
            ],
            [
             0.5555555555555556,
             "#d8576b"
            ],
            [
             0.6666666666666666,
             "#ed7953"
            ],
            [
             0.7777777777777778,
             "#fb9f3a"
            ],
            [
             0.8888888888888888,
             "#fdca26"
            ],
            [
             1,
             "#f0f921"
            ]
           ]
          },
          "colorway": [
           "#636efa",
           "#EF553B",
           "#00cc96",
           "#ab63fa",
           "#FFA15A",
           "#19d3f3",
           "#FF6692",
           "#B6E880",
           "#FF97FF",
           "#FECB52"
          ],
          "font": {
           "color": "#2a3f5f"
          },
          "geo": {
           "bgcolor": "white",
           "lakecolor": "white",
           "landcolor": "#E5ECF6",
           "showlakes": true,
           "showland": true,
           "subunitcolor": "white"
          },
          "hoverlabel": {
           "align": "left"
          },
          "hovermode": "closest",
          "mapbox": {
           "style": "light"
          },
          "paper_bgcolor": "white",
          "plot_bgcolor": "#E5ECF6",
          "polar": {
           "angularaxis": {
            "gridcolor": "white",
            "linecolor": "white",
            "ticks": ""
           },
           "bgcolor": "#E5ECF6",
           "radialaxis": {
            "gridcolor": "white",
            "linecolor": "white",
            "ticks": ""
           }
          },
          "scene": {
           "xaxis": {
            "backgroundcolor": "#E5ECF6",
            "gridcolor": "white",
            "gridwidth": 2,
            "linecolor": "white",
            "showbackground": true,
            "ticks": "",
            "zerolinecolor": "white"
           },
           "yaxis": {
            "backgroundcolor": "#E5ECF6",
            "gridcolor": "white",
            "gridwidth": 2,
            "linecolor": "white",
            "showbackground": true,
            "ticks": "",
            "zerolinecolor": "white"
           },
           "zaxis": {
            "backgroundcolor": "#E5ECF6",
            "gridcolor": "white",
            "gridwidth": 2,
            "linecolor": "white",
            "showbackground": true,
            "ticks": "",
            "zerolinecolor": "white"
           }
          },
          "shapedefaults": {
           "line": {
            "color": "#2a3f5f"
           }
          },
          "ternary": {
           "aaxis": {
            "gridcolor": "white",
            "linecolor": "white",
            "ticks": ""
           },
           "baxis": {
            "gridcolor": "white",
            "linecolor": "white",
            "ticks": ""
           },
           "bgcolor": "#E5ECF6",
           "caxis": {
            "gridcolor": "white",
            "linecolor": "white",
            "ticks": ""
           }
          },
          "title": {
           "x": 0.05
          },
          "xaxis": {
           "automargin": true,
           "gridcolor": "white",
           "linecolor": "white",
           "ticks": "",
           "title": {
            "standoff": 15
           },
           "zerolinecolor": "white",
           "zerolinewidth": 2
          },
          "yaxis": {
           "automargin": true,
           "gridcolor": "white",
           "linecolor": "white",
           "ticks": "",
           "title": {
            "standoff": 15
           },
           "zerolinecolor": "white",
           "zerolinewidth": 2
          }
         }
        },
        "title": {
         "text": "解决类型分布"
        },
        "width": 600
       }
      }
     },
     "metadata": {},
     "output_type": "display_data"
    }
   ],
   "source": [
    "# 绘制所有类型冲突的占比饼图\n",
    "import plotly.graph_objects as go\n",
    "\n",
    "# 和 MergeBERT数据集图片对应\n",
    "_labels = ['newline', 'mixline', 'accept_ours', 'accept_theirs', 'concat_ours_theirs', 'concat_theirs_ours', 'delete_all', 'accept_base']\n",
    "_values = [kind_counter[label] for label in _labels]\n",
    "\n",
    "# 按label的顺序，顺时针绘制饼图\n",
    "# 注意：按顺序\n",
    "fig = go.Figure(data=[go.Pie(labels=_labels, values=_values, sort=False)])\n",
    "\n",
    "# Updating the layout for better visualization\n",
    "fig.update_layout(title_text='解决类型分布', width=600)\n",
    "\n",
    "# Showing the pie chart\n",
    "fig.show()"
   ]
  },
  {
   "cell_type": "code",
   "execution_count": 7,
   "metadata": {},
   "outputs": [
    {
     "name": "stderr",
     "output_type": "stream",
     "text": [
      "/var/folders/kk/c2h14cg92576rz58wyx_s6_c0000gn/T/ipykernel_36675/3779074999.py:1: DeprecationWarning:\n",
      "\n",
      "\n",
      "Pyarrow will become a required dependency of pandas in the next major release of pandas (pandas 3.0),\n",
      "(to allow more performant data types, such as the Arrow string type, and better interoperability with other libraries)\n",
      "but was not found to be installed on your system.\n",
      "If this would cause problems for you,\n",
      "please provide us feedback at https://github.com/pandas-dev/pandas/issues/54466\n",
      "        \n",
      "\n"
     ]
    },
    {
     "data": {
      "text/html": [
       "<div>\n",
       "<style scoped>\n",
       "    .dataframe tbody tr th:only-of-type {\n",
       "        vertical-align: middle;\n",
       "    }\n",
       "\n",
       "    .dataframe tbody tr th {\n",
       "        vertical-align: top;\n",
       "    }\n",
       "\n",
       "    .dataframe thead th {\n",
       "        text-align: right;\n",
       "    }\n",
       "</style>\n",
       "<table border=\"1\" class=\"dataframe\">\n",
       "  <thead>\n",
       "    <tr style=\"text-align: right;\">\n",
       "      <th></th>\n",
       "      <th>类别</th>\n",
       "      <th>伪冲突占比</th>\n",
       "    </tr>\n",
       "  </thead>\n",
       "  <tbody>\n",
       "    <tr>\n",
       "      <th>6</th>\n",
       "      <td>concat_theirs_ours</td>\n",
       "      <td>95.93%</td>\n",
       "    </tr>\n",
       "    <tr>\n",
       "      <th>4</th>\n",
       "      <td>concat_ours_theirs</td>\n",
       "      <td>94.96%</td>\n",
       "    </tr>\n",
       "    <tr>\n",
       "      <th>3</th>\n",
       "      <td>mixline</td>\n",
       "      <td>74.85%</td>\n",
       "    </tr>\n",
       "    <tr>\n",
       "      <th>5</th>\n",
       "      <td>accept_base</td>\n",
       "      <td>69.56%</td>\n",
       "    </tr>\n",
       "    <tr>\n",
       "      <th>7</th>\n",
       "      <td>delete_all</td>\n",
       "      <td>56.0%</td>\n",
       "    </tr>\n",
       "    <tr>\n",
       "      <th>2</th>\n",
       "      <td>newline</td>\n",
       "      <td>25.24%</td>\n",
       "    </tr>\n",
       "    <tr>\n",
       "      <th>1</th>\n",
       "      <td>accept_theirs</td>\n",
       "      <td>23.41%</td>\n",
       "    </tr>\n",
       "    <tr>\n",
       "      <th>0</th>\n",
       "      <td>accept_ours</td>\n",
       "      <td>22.65%</td>\n",
       "    </tr>\n",
       "  </tbody>\n",
       "</table>\n",
       "</div>"
      ],
      "text/plain": [
       "                   类别   伪冲突占比\n",
       "6  concat_theirs_ours  95.93%\n",
       "4  concat_ours_theirs  94.96%\n",
       "3             mixline  74.85%\n",
       "5         accept_base  69.56%\n",
       "7          delete_all   56.0%\n",
       "2             newline  25.24%\n",
       "1       accept_theirs  23.41%\n",
       "0         accept_ours  22.65%"
      ]
     },
     "execution_count": 7,
     "metadata": {},
     "output_type": "execute_result"
    }
   ],
   "source": [
    "import pandas as pd\n",
    "# 所有语言数据中伪冲突的比例\n",
    "\n",
    "suggestion_given_rate = {\n",
    "    k: resolution_offerable_kind[k]/v*100 for k, v in kind_counter.items()\n",
    "}\n",
    "suggestion_given_rate_df_dic = {'类别':suggestion_given_rate.keys(), '伪冲突占比':suggestion_given_rate.values()}\n",
    "falsepositive_rate = pd.DataFrame(suggestion_given_rate_df_dic)\n",
    "falsepositive_rate['伪冲突占比'] = falsepositive_rate['伪冲突占比'].round(2)\n",
    "falsepositive_rate['伪冲突占比'] = falsepositive_rate['伪冲突占比'].apply(lambda x: str(x)+'%')\n",
    "falsepositive_rate = falsepositive_rate.sort_values(by='伪冲突占比', ascending=False)\n",
    "falsepositive_rate"
   ]
  },
  {
   "cell_type": "code",
   "execution_count": 8,
   "metadata": {},
   "outputs": [
    {
     "data": {
      "text/html": [
       "<div>\n",
       "<style scoped>\n",
       "    .dataframe tbody tr th:only-of-type {\n",
       "        vertical-align: middle;\n",
       "    }\n",
       "\n",
       "    .dataframe tbody tr th {\n",
       "        vertical-align: top;\n",
       "    }\n",
       "\n",
       "    .dataframe thead th {\n",
       "        text-align: right;\n",
       "    }\n",
       "</style>\n",
       "<table border=\"1\" class=\"dataframe\">\n",
       "  <thead>\n",
       "    <tr style=\"text-align: right;\">\n",
       "      <th></th>\n",
       "      <th>类别</th>\n",
       "      <th>正确率</th>\n",
       "    </tr>\n",
       "  </thead>\n",
       "  <tbody>\n",
       "    <tr>\n",
       "      <th>0</th>\n",
       "      <td>accept_ours</td>\n",
       "      <td>0.0%</td>\n",
       "    </tr>\n",
       "    <tr>\n",
       "      <th>1</th>\n",
       "      <td>accept_theirs</td>\n",
       "      <td>0.01%</td>\n",
       "    </tr>\n",
       "    <tr>\n",
       "      <th>2</th>\n",
       "      <td>newline</td>\n",
       "      <td>0.0%</td>\n",
       "    </tr>\n",
       "    <tr>\n",
       "      <th>3</th>\n",
       "      <td>mixline</td>\n",
       "      <td>52.12%</td>\n",
       "    </tr>\n",
       "    <tr>\n",
       "      <th>4</th>\n",
       "      <td>concat_ours_theirs</td>\n",
       "      <td>89.14%</td>\n",
       "    </tr>\n",
       "    <tr>\n",
       "      <th>5</th>\n",
       "      <td>accept_base</td>\n",
       "      <td>1.3%</td>\n",
       "    </tr>\n",
       "    <tr>\n",
       "      <th>6</th>\n",
       "      <td>concat_theirs_ours</td>\n",
       "      <td>0.0%</td>\n",
       "    </tr>\n",
       "    <tr>\n",
       "      <th>7</th>\n",
       "      <td>delete_all</td>\n",
       "      <td>37.76%</td>\n",
       "    </tr>\n",
       "  </tbody>\n",
       "</table>\n",
       "</div>"
      ],
      "text/plain": [
       "                   类别     正确率\n",
       "0         accept_ours    0.0%\n",
       "1       accept_theirs   0.01%\n",
       "2             newline    0.0%\n",
       "3             mixline  52.12%\n",
       "4  concat_ours_theirs  89.14%\n",
       "5         accept_base    1.3%\n",
       "6  concat_theirs_ours    0.0%\n",
       "7          delete_all  37.76%"
      ]
     },
     "execution_count": 8,
     "metadata": {},
     "output_type": "execute_result"
    }
   ],
   "source": [
    "# 所有语言数据中冲突的解决比例\n",
    "# 这个数据中不能提供 BA 这样的类型，不能算上界，上界应该看回溯算法给出的结果\n",
    "import pandas as pd\n",
    "correct_rate = {\n",
    "    k: correct_counter[k]/v*100 for k, v in kind_counter.items()\n",
    "}\n",
    "correct_rate_df_dic = {'类别':correct_rate.keys(), '正确率':correct_rate.values()}\n",
    "correct_rate_df = pd.DataFrame(correct_rate_df_dic)\n",
    "correct_rate_df['正确率'] = correct_rate_df['正确率'].round(2)\n",
    "correct_rate_df['正确率'] = correct_rate_df['正确率'].apply(lambda x: str(x)+'%')\n",
    "correct_rate_df"
   ]
  },
  {
   "cell_type": "code",
   "execution_count": 9,
   "metadata": {},
   "outputs": [
    {
     "data": {
      "text/html": [
       "<div>\n",
       "<style scoped>\n",
       "    .dataframe tbody tr th:only-of-type {\n",
       "        vertical-align: middle;\n",
       "    }\n",
       "\n",
       "    .dataframe tbody tr th {\n",
       "        vertical-align: top;\n",
       "    }\n",
       "\n",
       "    .dataframe thead th {\n",
       "        text-align: right;\n",
       "    }\n",
       "</style>\n",
       "<table border=\"1\" class=\"dataframe\">\n",
       "  <thead>\n",
       "    <tr style=\"text-align: right;\">\n",
       "      <th></th>\n",
       "      <th>类别</th>\n",
       "      <th>伪冲突解决正确率</th>\n",
       "    </tr>\n",
       "  </thead>\n",
       "  <tbody>\n",
       "    <tr>\n",
       "      <th>4</th>\n",
       "      <td>concat_ours_theirs</td>\n",
       "      <td>93.87%</td>\n",
       "    </tr>\n",
       "    <tr>\n",
       "      <th>3</th>\n",
       "      <td>mixline</td>\n",
       "      <td>69.63%</td>\n",
       "    </tr>\n",
       "    <tr>\n",
       "      <th>7</th>\n",
       "      <td>delete_all</td>\n",
       "      <td>67.42%</td>\n",
       "    </tr>\n",
       "    <tr>\n",
       "      <th>5</th>\n",
       "      <td>accept_base</td>\n",
       "      <td>1.86%</td>\n",
       "    </tr>\n",
       "    <tr>\n",
       "      <th>1</th>\n",
       "      <td>accept_theirs</td>\n",
       "      <td>0.05%</td>\n",
       "    </tr>\n",
       "    <tr>\n",
       "      <th>0</th>\n",
       "      <td>accept_ours</td>\n",
       "      <td>0.02%</td>\n",
       "    </tr>\n",
       "    <tr>\n",
       "      <th>2</th>\n",
       "      <td>newline</td>\n",
       "      <td>0.0%</td>\n",
       "    </tr>\n",
       "    <tr>\n",
       "      <th>6</th>\n",
       "      <td>concat_theirs_ours</td>\n",
       "      <td>0.0%</td>\n",
       "    </tr>\n",
       "  </tbody>\n",
       "</table>\n",
       "</div>"
      ],
      "text/plain": [
       "                   类别 伪冲突解决正确率\n",
       "4  concat_ours_theirs   93.87%\n",
       "3             mixline   69.63%\n",
       "7          delete_all   67.42%\n",
       "5         accept_base    1.86%\n",
       "1       accept_theirs    0.05%\n",
       "0         accept_ours    0.02%\n",
       "2             newline     0.0%\n",
       "6  concat_theirs_ours     0.0%"
      ]
     },
     "execution_count": 9,
     "metadata": {},
     "output_type": "execute_result"
    }
   ],
   "source": [
    "# 根据 伪冲突解决正确率 降序排列\n",
    "# 所有语言数据中各类别伪冲突的正确率\n",
    "import pandas as pd\n",
    "correct_out_of_givin_dic = {'类别':correct_rate.keys(), '伪冲突解决正确率':[correct_rate[i]/suggestion_given_rate[i] * 100 for i in correct_rate.keys()]}\n",
    "correct_out_of_givin_df = pd.DataFrame(correct_out_of_givin_dic)\n",
    "# 根据 伪冲突解决正确率 降序排列\n",
    "correct_out_of_givin_df = correct_out_of_givin_df.sort_values(by='伪冲突解决正确率', ascending=False)\n",
    "correct_out_of_givin_df['伪冲突解决正确率'] = correct_out_of_givin_df['伪冲突解决正确率'].round(2)\n",
    "correct_out_of_givin_df['伪冲突解决正确率'] = correct_out_of_givin_df['伪冲突解决正确率'].apply(lambda x: str(x)+'%')\n",
    "correct_out_of_givin_df"
   ]
  },
  {
   "cell_type": "code",
   "execution_count": 10,
   "metadata": {},
   "outputs": [
    {
     "data": {
      "application/vnd.plotly.v1+json": {
       "config": {
        "plotlyServerURL": "https://plot.ly"
       },
       "data": [
        {
         "customdata": [
          0,
          0,
          0,
          52.1,
          89.1,
          1.3,
          0,
          37.8
         ],
         "marker": {
          "color": "green"
         },
         "name": "接受所有编辑脚本就能解决",
         "texttemplate": "%{customdata}%",
         "type": "bar",
         "x": [
          "accept_ours",
          "accept_theirs",
          "newline",
          "mixline",
          "concat_ours_theirs",
          "accept_base",
          "concat_theirs_ours",
          "delete_all"
         ],
         "y": [
          4.000000000000001,
          6,
          0,
          13571,
          3323,
          10,
          0,
          477.99999999999994
         ]
        },
        {
         "marker": {
          "color": "rgb(52,130,198)"
         },
         "name": "伪冲突，但不能接受全部脚本解决",
         "type": "bar",
         "x": [
          "accept_ours",
          "accept_theirs",
          "newline",
          "mixline",
          "concat_ours_theirs",
          "accept_base",
          "concat_theirs_ours",
          "delete_all"
         ],
         "y": [
          19958.000000000004,
          12010,
          7355,
          5918,
          217.00000000000003,
          527,
          1366,
          231.0000000000001
         ]
        },
        {
         "marker": {
          "color": "#aaa"
         },
         "name": "该类型冲突总数",
         "type": "bar",
         "x": [
          "accept_ours",
          "accept_theirs",
          "newline",
          "mixline",
          "concat_ours_theirs",
          "accept_base",
          "concat_theirs_ours",
          "delete_all"
         ],
         "y": [
          68170,
          39305,
          21783,
          6549,
          187.99999999999977,
          235,
          57.99999999999994,
          556.9999999999999
         ]
        }
       ],
       "layout": {
        "bargap": 0.15,
        "bargroupgap": 0.1,
        "barmode": "stack",
        "legend": {
         "bgcolor": "rgba(255, 255, 255, 0)",
         "bordercolor": "rgba(255, 255, 255, 0)",
         "x": 0.8,
         "y": 1
        },
        "template": {
         "data": {
          "bar": [
           {
            "error_x": {
             "color": "#2a3f5f"
            },
            "error_y": {
             "color": "#2a3f5f"
            },
            "marker": {
             "line": {
              "color": "#E5ECF6",
              "width": 0.5
             },
             "pattern": {
              "fillmode": "overlay",
              "size": 10,
              "solidity": 0.2
             }
            },
            "type": "bar"
           }
          ],
          "barpolar": [
           {
            "marker": {
             "line": {
              "color": "#E5ECF6",
              "width": 0.5
             },
             "pattern": {
              "fillmode": "overlay",
              "size": 10,
              "solidity": 0.2
             }
            },
            "type": "barpolar"
           }
          ],
          "carpet": [
           {
            "aaxis": {
             "endlinecolor": "#2a3f5f",
             "gridcolor": "white",
             "linecolor": "white",
             "minorgridcolor": "white",
             "startlinecolor": "#2a3f5f"
            },
            "baxis": {
             "endlinecolor": "#2a3f5f",
             "gridcolor": "white",
             "linecolor": "white",
             "minorgridcolor": "white",
             "startlinecolor": "#2a3f5f"
            },
            "type": "carpet"
           }
          ],
          "choropleth": [
           {
            "colorbar": {
             "outlinewidth": 0,
             "ticks": ""
            },
            "type": "choropleth"
           }
          ],
          "contour": [
           {
            "colorbar": {
             "outlinewidth": 0,
             "ticks": ""
            },
            "colorscale": [
             [
              0,
              "#0d0887"
             ],
             [
              0.1111111111111111,
              "#46039f"
             ],
             [
              0.2222222222222222,
              "#7201a8"
             ],
             [
              0.3333333333333333,
              "#9c179e"
             ],
             [
              0.4444444444444444,
              "#bd3786"
             ],
             [
              0.5555555555555556,
              "#d8576b"
             ],
             [
              0.6666666666666666,
              "#ed7953"
             ],
             [
              0.7777777777777778,
              "#fb9f3a"
             ],
             [
              0.8888888888888888,
              "#fdca26"
             ],
             [
              1,
              "#f0f921"
             ]
            ],
            "type": "contour"
           }
          ],
          "contourcarpet": [
           {
            "colorbar": {
             "outlinewidth": 0,
             "ticks": ""
            },
            "type": "contourcarpet"
           }
          ],
          "heatmap": [
           {
            "colorbar": {
             "outlinewidth": 0,
             "ticks": ""
            },
            "colorscale": [
             [
              0,
              "#0d0887"
             ],
             [
              0.1111111111111111,
              "#46039f"
             ],
             [
              0.2222222222222222,
              "#7201a8"
             ],
             [
              0.3333333333333333,
              "#9c179e"
             ],
             [
              0.4444444444444444,
              "#bd3786"
             ],
             [
              0.5555555555555556,
              "#d8576b"
             ],
             [
              0.6666666666666666,
              "#ed7953"
             ],
             [
              0.7777777777777778,
              "#fb9f3a"
             ],
             [
              0.8888888888888888,
              "#fdca26"
             ],
             [
              1,
              "#f0f921"
             ]
            ],
            "type": "heatmap"
           }
          ],
          "heatmapgl": [
           {
            "colorbar": {
             "outlinewidth": 0,
             "ticks": ""
            },
            "colorscale": [
             [
              0,
              "#0d0887"
             ],
             [
              0.1111111111111111,
              "#46039f"
             ],
             [
              0.2222222222222222,
              "#7201a8"
             ],
             [
              0.3333333333333333,
              "#9c179e"
             ],
             [
              0.4444444444444444,
              "#bd3786"
             ],
             [
              0.5555555555555556,
              "#d8576b"
             ],
             [
              0.6666666666666666,
              "#ed7953"
             ],
             [
              0.7777777777777778,
              "#fb9f3a"
             ],
             [
              0.8888888888888888,
              "#fdca26"
             ],
             [
              1,
              "#f0f921"
             ]
            ],
            "type": "heatmapgl"
           }
          ],
          "histogram": [
           {
            "marker": {
             "pattern": {
              "fillmode": "overlay",
              "size": 10,
              "solidity": 0.2
             }
            },
            "type": "histogram"
           }
          ],
          "histogram2d": [
           {
            "colorbar": {
             "outlinewidth": 0,
             "ticks": ""
            },
            "colorscale": [
             [
              0,
              "#0d0887"
             ],
             [
              0.1111111111111111,
              "#46039f"
             ],
             [
              0.2222222222222222,
              "#7201a8"
             ],
             [
              0.3333333333333333,
              "#9c179e"
             ],
             [
              0.4444444444444444,
              "#bd3786"
             ],
             [
              0.5555555555555556,
              "#d8576b"
             ],
             [
              0.6666666666666666,
              "#ed7953"
             ],
             [
              0.7777777777777778,
              "#fb9f3a"
             ],
             [
              0.8888888888888888,
              "#fdca26"
             ],
             [
              1,
              "#f0f921"
             ]
            ],
            "type": "histogram2d"
           }
          ],
          "histogram2dcontour": [
           {
            "colorbar": {
             "outlinewidth": 0,
             "ticks": ""
            },
            "colorscale": [
             [
              0,
              "#0d0887"
             ],
             [
              0.1111111111111111,
              "#46039f"
             ],
             [
              0.2222222222222222,
              "#7201a8"
             ],
             [
              0.3333333333333333,
              "#9c179e"
             ],
             [
              0.4444444444444444,
              "#bd3786"
             ],
             [
              0.5555555555555556,
              "#d8576b"
             ],
             [
              0.6666666666666666,
              "#ed7953"
             ],
             [
              0.7777777777777778,
              "#fb9f3a"
             ],
             [
              0.8888888888888888,
              "#fdca26"
             ],
             [
              1,
              "#f0f921"
             ]
            ],
            "type": "histogram2dcontour"
           }
          ],
          "mesh3d": [
           {
            "colorbar": {
             "outlinewidth": 0,
             "ticks": ""
            },
            "type": "mesh3d"
           }
          ],
          "parcoords": [
           {
            "line": {
             "colorbar": {
              "outlinewidth": 0,
              "ticks": ""
             }
            },
            "type": "parcoords"
           }
          ],
          "pie": [
           {
            "automargin": true,
            "type": "pie"
           }
          ],
          "scatter": [
           {
            "fillpattern": {
             "fillmode": "overlay",
             "size": 10,
             "solidity": 0.2
            },
            "type": "scatter"
           }
          ],
          "scatter3d": [
           {
            "line": {
             "colorbar": {
              "outlinewidth": 0,
              "ticks": ""
             }
            },
            "marker": {
             "colorbar": {
              "outlinewidth": 0,
              "ticks": ""
             }
            },
            "type": "scatter3d"
           }
          ],
          "scattercarpet": [
           {
            "marker": {
             "colorbar": {
              "outlinewidth": 0,
              "ticks": ""
             }
            },
            "type": "scattercarpet"
           }
          ],
          "scattergeo": [
           {
            "marker": {
             "colorbar": {
              "outlinewidth": 0,
              "ticks": ""
             }
            },
            "type": "scattergeo"
           }
          ],
          "scattergl": [
           {
            "marker": {
             "colorbar": {
              "outlinewidth": 0,
              "ticks": ""
             }
            },
            "type": "scattergl"
           }
          ],
          "scattermapbox": [
           {
            "marker": {
             "colorbar": {
              "outlinewidth": 0,
              "ticks": ""
             }
            },
            "type": "scattermapbox"
           }
          ],
          "scatterpolar": [
           {
            "marker": {
             "colorbar": {
              "outlinewidth": 0,
              "ticks": ""
             }
            },
            "type": "scatterpolar"
           }
          ],
          "scatterpolargl": [
           {
            "marker": {
             "colorbar": {
              "outlinewidth": 0,
              "ticks": ""
             }
            },
            "type": "scatterpolargl"
           }
          ],
          "scatterternary": [
           {
            "marker": {
             "colorbar": {
              "outlinewidth": 0,
              "ticks": ""
             }
            },
            "type": "scatterternary"
           }
          ],
          "surface": [
           {
            "colorbar": {
             "outlinewidth": 0,
             "ticks": ""
            },
            "colorscale": [
             [
              0,
              "#0d0887"
             ],
             [
              0.1111111111111111,
              "#46039f"
             ],
             [
              0.2222222222222222,
              "#7201a8"
             ],
             [
              0.3333333333333333,
              "#9c179e"
             ],
             [
              0.4444444444444444,
              "#bd3786"
             ],
             [
              0.5555555555555556,
              "#d8576b"
             ],
             [
              0.6666666666666666,
              "#ed7953"
             ],
             [
              0.7777777777777778,
              "#fb9f3a"
             ],
             [
              0.8888888888888888,
              "#fdca26"
             ],
             [
              1,
              "#f0f921"
             ]
            ],
            "type": "surface"
           }
          ],
          "table": [
           {
            "cells": {
             "fill": {
              "color": "#EBF0F8"
             },
             "line": {
              "color": "white"
             }
            },
            "header": {
             "fill": {
              "color": "#C8D4E3"
             },
             "line": {
              "color": "white"
             }
            },
            "type": "table"
           }
          ]
         },
         "layout": {
          "annotationdefaults": {
           "arrowcolor": "#2a3f5f",
           "arrowhead": 0,
           "arrowwidth": 1
          },
          "autotypenumbers": "strict",
          "coloraxis": {
           "colorbar": {
            "outlinewidth": 0,
            "ticks": ""
           }
          },
          "colorscale": {
           "diverging": [
            [
             0,
             "#8e0152"
            ],
            [
             0.1,
             "#c51b7d"
            ],
            [
             0.2,
             "#de77ae"
            ],
            [
             0.3,
             "#f1b6da"
            ],
            [
             0.4,
             "#fde0ef"
            ],
            [
             0.5,
             "#f7f7f7"
            ],
            [
             0.6,
             "#e6f5d0"
            ],
            [
             0.7,
             "#b8e186"
            ],
            [
             0.8,
             "#7fbc41"
            ],
            [
             0.9,
             "#4d9221"
            ],
            [
             1,
             "#276419"
            ]
           ],
           "sequential": [
            [
             0,
             "#0d0887"
            ],
            [
             0.1111111111111111,
             "#46039f"
            ],
            [
             0.2222222222222222,
             "#7201a8"
            ],
            [
             0.3333333333333333,
             "#9c179e"
            ],
            [
             0.4444444444444444,
             "#bd3786"
            ],
            [
             0.5555555555555556,
             "#d8576b"
            ],
            [
             0.6666666666666666,
             "#ed7953"
            ],
            [
             0.7777777777777778,
             "#fb9f3a"
            ],
            [
             0.8888888888888888,
             "#fdca26"
            ],
            [
             1,
             "#f0f921"
            ]
           ],
           "sequentialminus": [
            [
             0,
             "#0d0887"
            ],
            [
             0.1111111111111111,
             "#46039f"
            ],
            [
             0.2222222222222222,
             "#7201a8"
            ],
            [
             0.3333333333333333,
             "#9c179e"
            ],
            [
             0.4444444444444444,
             "#bd3786"
            ],
            [
             0.5555555555555556,
             "#d8576b"
            ],
            [
             0.6666666666666666,
             "#ed7953"
            ],
            [
             0.7777777777777778,
             "#fb9f3a"
            ],
            [
             0.8888888888888888,
             "#fdca26"
            ],
            [
             1,
             "#f0f921"
            ]
           ]
          },
          "colorway": [
           "#636efa",
           "#EF553B",
           "#00cc96",
           "#ab63fa",
           "#FFA15A",
           "#19d3f3",
           "#FF6692",
           "#B6E880",
           "#FF97FF",
           "#FECB52"
          ],
          "font": {
           "color": "#2a3f5f"
          },
          "geo": {
           "bgcolor": "white",
           "lakecolor": "white",
           "landcolor": "#E5ECF6",
           "showlakes": true,
           "showland": true,
           "subunitcolor": "white"
          },
          "hoverlabel": {
           "align": "left"
          },
          "hovermode": "closest",
          "mapbox": {
           "style": "light"
          },
          "paper_bgcolor": "white",
          "plot_bgcolor": "#E5ECF6",
          "polar": {
           "angularaxis": {
            "gridcolor": "white",
            "linecolor": "white",
            "ticks": ""
           },
           "bgcolor": "#E5ECF6",
           "radialaxis": {
            "gridcolor": "white",
            "linecolor": "white",
            "ticks": ""
           }
          },
          "scene": {
           "xaxis": {
            "backgroundcolor": "#E5ECF6",
            "gridcolor": "white",
            "gridwidth": 2,
            "linecolor": "white",
            "showbackground": true,
            "ticks": "",
            "zerolinecolor": "white"
           },
           "yaxis": {
            "backgroundcolor": "#E5ECF6",
            "gridcolor": "white",
            "gridwidth": 2,
            "linecolor": "white",
            "showbackground": true,
            "ticks": "",
            "zerolinecolor": "white"
           },
           "zaxis": {
            "backgroundcolor": "#E5ECF6",
            "gridcolor": "white",
            "gridwidth": 2,
            "linecolor": "white",
            "showbackground": true,
            "ticks": "",
            "zerolinecolor": "white"
           }
          },
          "shapedefaults": {
           "line": {
            "color": "#2a3f5f"
           }
          },
          "ternary": {
           "aaxis": {
            "gridcolor": "white",
            "linecolor": "white",
            "ticks": ""
           },
           "baxis": {
            "gridcolor": "white",
            "linecolor": "white",
            "ticks": ""
           },
           "bgcolor": "#E5ECF6",
           "caxis": {
            "gridcolor": "white",
            "linecolor": "white",
            "ticks": ""
           }
          },
          "title": {
           "x": 0.05
          },
          "xaxis": {
           "automargin": true,
           "gridcolor": "white",
           "linecolor": "white",
           "ticks": "",
           "title": {
            "standoff": 15
           },
           "zerolinecolor": "white",
           "zerolinewidth": 2
          },
          "yaxis": {
           "automargin": true,
           "gridcolor": "white",
           "linecolor": "white",
           "ticks": "",
           "title": {
            "standoff": 15
           },
           "zerolinecolor": "white",
           "zerolinewidth": 2
          }
         }
        },
        "title": {
         "text": "各类别冲突伪冲突解决情况"
        },
        "width": 1000,
        "xaxis": {
         "tickfont": {
          "size": 14
         }
        },
        "yaxis": {
         "tickfont": {
          "size": 14
         },
         "title": {
          "font": {
           "size": 16
          },
          "text": "冲突数量"
         }
        }
       }
      }
     },
     "metadata": {},
     "output_type": "display_data"
    }
   ],
   "source": [
    "# 使用 plotly 绘制条形图，横坐标是各个类型，\n",
    "# 纵坐标高度由三部分组成：灰色表示总数减去给出建议的部分，绿色部分表示正确的部分、蓝色表示给出建议但不正确的部分\n",
    "\n",
    "import plotly.graph_objects as go\n",
    "\n",
    "fig = go.Figure()\n",
    "fig.add_trace(go.Bar(\n",
    "    x=list(kind_counter.keys()),\n",
    "    y=[kind_counter[k] * correct_rate[k] / 100 for k in kind_counter.keys()],\n",
    "    name='接受所有编辑脚本就能解决',\n",
    "    marker_color='green',\n",
    "    customdata=[round(correct_rate[k], 1) for k in kind_counter.keys()],\n",
    "    texttemplate=\"%{customdata}%\",\n",
    "))\n",
    "fig.add_trace(go.Bar(\n",
    "    x=list(kind_counter.keys()),\n",
    "    y=[kind_counter[k] * (suggestion_given_rate[k] - correct_rate[k]) / 100 for k in kind_counter.keys()],\n",
    "    name='伪冲突，但不能接受全部脚本解决',\n",
    "    marker_color='rgb(52,130,198)',\n",
    "))\n",
    "fig.add_trace(go.Bar(\n",
    "    x=list(kind_counter.keys()),\n",
    "    y=list([kind_counter[k] * (100 - suggestion_given_rate[k]) / 100 for k in kind_counter.keys()]),\n",
    "    name='该类型冲突总数',\n",
    "    marker_color='#aaa'\n",
    "))\n",
    "\n",
    "fig.update_layout(\n",
    "    title='各类别冲突伪冲突解决情况',\n",
    "    xaxis_tickfont_size=14,\n",
    "    width=1000,\n",
    "    yaxis=dict(\n",
    "        title='冲突数量',\n",
    "        titlefont_size=16,\n",
    "        tickfont_size=14,\n",
    "    ),\n",
    "    legend=dict(\n",
    "        x=0.8,\n",
    "        y=1.0,\n",
    "        bgcolor='rgba(255, 255, 255, 0)',\n",
    "        bordercolor='rgba(255, 255, 255, 0)'\n",
    "    ),\n",
    "    barmode='stack',\n",
    "    bargap=0.15,\n",
    "    bargroupgap=0.1\n",
    ")\n",
    "\n",
    "fig.show()"
   ]
  }
 ],
 "metadata": {
  "kernelspec": {
   "display_name": "_venv",
   "language": "python",
   "name": "python3"
  },
  "language_info": {
   "codemirror_mode": {
    "name": "ipython",
    "version": 3
   },
   "file_extension": ".py",
   "mimetype": "text/x-python",
   "name": "python",
   "nbconvert_exporter": "python",
   "pygments_lexer": "ipython3",
   "version": "3.11.4"
  }
 },
 "nbformat": 4,
 "nbformat_minor": 2
}
